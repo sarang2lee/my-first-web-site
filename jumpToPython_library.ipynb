{
  "nbformat": 4,
  "nbformat_minor": 0,
  "metadata": {
    "colab": {
      "provenance": [],
      "authorship_tag": "ABX9TyM0RcHDRaM860ooin/wuxP7",
      "include_colab_link": true
    },
    "kernelspec": {
      "name": "python3",
      "display_name": "Python 3"
    },
    "language_info": {
      "name": "python"
    }
  },
  "cells": [
    {
      "cell_type": "markdown",
      "metadata": {
        "id": "view-in-github",
        "colab_type": "text"
      },
      "source": [
        "<a href=\"https://colab.research.google.com/github/sarang2lee/my-first-web-site/blob/main/jumpToPython_library.ipynb\" target=\"_parent\"><img src=\"https://colab.research.google.com/assets/colab-badge.svg\" alt=\"Open In Colab\"/></a>"
      ]
    },
    {
      "cell_type": "code",
      "execution_count": null,
      "metadata": {
        "id": "eCUrhW9UxCVl"
      },
      "outputs": [],
      "source": [
        "import datetime\n",
        "day1 = datetime.date(2022,1,8)\n",
        "day2 = datetime.date(2025,7,8)"
      ]
    },
    {
      "cell_type": "code",
      "source": [
        "diff = day2-day1\n",
        "diff.days +"
      ],
      "metadata": {
        "colab": {
          "base_uri": "https://localhost:8080/",
          "height": 110
        },
        "id": "vacxnuVNx0xD",
        "outputId": "42d0804c-fa85-49c4-9ef6-0e41558018e3"
      },
      "execution_count": null,
      "outputs": [
        {
          "output_type": "error",
          "ename": "SyntaxError",
          "evalue": "invalid syntax (ipython-input-30-451545443.py, line 2)",
          "traceback": [
            "\u001b[0;36m  File \u001b[0;32m\"/tmp/ipython-input-30-451545443.py\"\u001b[0;36m, line \u001b[0;32m2\u001b[0m\n\u001b[0;31m    diff.days +\u001b[0m\n\u001b[0m               ^\u001b[0m\n\u001b[0;31mSyntaxError\u001b[0m\u001b[0;31m:\u001b[0m invalid syntax\n"
          ]
        }
      ]
    },
    {
      "cell_type": "code",
      "source": [
        "day = datetime.date(2025, 7, 8)\n",
        "day.weekday()\n"
      ],
      "metadata": {
        "id": "1wqgh1BhPeGj"
      },
      "execution_count": null,
      "outputs": []
    },
    {
      "cell_type": "markdown",
      "source": [
        "0은 월요일을 의미하며 순서대로 1은 화요일, 2는 수요일... 6은 일요일이 된다.\n",
        "반면에 isoweekday 함수를 사용하면, 1은 ㅎ월요일, 2는 화요일... 일요일은 7이 된다."
      ],
      "metadata": {
        "id": "aLNQis3_P2aN"
      }
    },
    {
      "cell_type": "code",
      "source": [
        "day.isoweekday()"
      ],
      "metadata": {
        "id": "pmUPRjjRQGmk"
      },
      "execution_count": null,
      "outputs": []
    },
    {
      "cell_type": "code",
      "source": [
        "import datetime\n",
        "day2 = datetime.date(2025,7,8)"
      ],
      "metadata": {
        "id": "7QmkHJIYQFb5"
      },
      "execution_count": null,
      "outputs": []
    },
    {
      "cell_type": "code",
      "source": [
        "print(day2.year, end=\"년 \")\n",
        "print(day2.month, end=\"월 \")\n",
        "print(day2.day, end = \"일\")"
      ],
      "metadata": {
        "colab": {
          "base_uri": "https://localhost:8080/"
        },
        "id": "46y9kG7KRTzh",
        "outputId": "743d88a9-c763-40f2-b57b-bdff0d94c8ab"
      },
      "execution_count": null,
      "outputs": [
        {
          "output_type": "stream",
          "name": "stdout",
          "text": [
            "2025년 7월 8일"
          ]
        }
      ]
    },
    {
      "cell_type": "markdown",
      "source": [
        "# time.time\n",
        "time.time()은 UTC(Universal Time Coordinated, 세계 협정 표준시)를 사용하여 현재 시간을 실수 형태로 리턴하는 함수이다. 1970년 1월 1일 0시 0분 0초를 기준으로 지난 시간을 초단위로 리턴해 준다."
      ],
      "metadata": {
        "id": "IXMLxwPpkCnh"
      }
    },
    {
      "cell_type": "code",
      "source": [
        "import time\n",
        "time.time()"
      ],
      "metadata": {
        "id": "P9h-zAY4Rsz5",
        "outputId": "abcd3fa9-f5c1-4798-dd4b-e5d8717a240a",
        "colab": {
          "base_uri": "https://localhost:8080/"
        }
      },
      "execution_count": null,
      "outputs": [
        {
          "output_type": "execute_result",
          "data": {
            "text/plain": [
              "1752187580.6616533"
            ]
          },
          "metadata": {},
          "execution_count": 33
        }
      ]
    },
    {
      "cell_type": "markdown",
      "source": [
        "# time.localtime\n",
        "time.localtime은 time.time()이 리턴한 실수값을 사용해서 연, 월, 일, 시, 분, 초...의 형태로 바꾸어 주는 함수이다."
      ],
      "metadata": {
        "id": "6UUKgH2Ekcm8"
      }
    },
    {
      "cell_type": "code",
      "source": [
        "time.localtime(time.time())"
      ],
      "metadata": {
        "colab": {
          "base_uri": "https://localhost:8080/"
        },
        "id": "JWw4AOXHkr00",
        "outputId": "73dec327-5f6c-4c5c-a280-1068ee0bf300"
      },
      "execution_count": null,
      "outputs": [
        {
          "output_type": "execute_result",
          "data": {
            "text/plain": [
              "time.struct_time(tm_year=2025, tm_mon=7, tm_mday=10, tm_hour=22, tm_min=46, tm_sec=34, tm_wday=3, tm_yday=191, tm_isdst=0)"
            ]
          },
          "metadata": {},
          "execution_count": 34
        }
      ]
    },
    {
      "cell_type": "markdown",
      "source": [
        "# time.asctime()\n",
        "time.asctime()은 time.localtime가 리턴한 리턴한 튜플 형태의 값을 인수로 받아서 날짜와 시간을 알아보기 쉬운 형태로 리턴하는 함수이다.\n",
        "\n",
        "# time.ctime()\n",
        "time.asctime(time.localtime(time.time()))은 간단하게 time.ctime()으로 표시할 수 있다.ctime이 asctime과 다른 점은 항상 현재 시간만 리턴한다는 점이다.\n",
        "\n",
        "# time.strftime()\n",
        "strftime 함수는 시간에 관계된 것을 세밀하게 표현하는 여러 가지 포맷 모드를 제공한다.\n",
        "\n",
        "time.strftime('출력할 형식 포맷 코드', time.localtime(time.time()))"
      ],
      "metadata": {
        "id": "cSHM_U8wk_IL"
      }
    },
    {
      "cell_type": "code",
      "source": [
        "time.asctime(time.localtime(time.time()))"
      ],
      "metadata": {
        "colab": {
          "base_uri": "https://localhost:8080/",
          "height": 35
        },
        "id": "dnkjMPDZlQ4X",
        "outputId": "e93f458f-ba77-43f5-d375-462c8947a783"
      },
      "execution_count": null,
      "outputs": [
        {
          "output_type": "execute_result",
          "data": {
            "text/plain": [
              "'Thu Jul 10 22:46:46 2025'"
            ],
            "application/vnd.google.colaboratory.intrinsic+json": {
              "type": "string"
            }
          },
          "metadata": {},
          "execution_count": 35
        }
      ]
    },
    {
      "cell_type": "code",
      "source": [
        "import time\n",
        "print(\"현재 시간대ㅣ\", time.tzname)\n",
        "print(\"UTC와의 시차(초): \", time.timezone)"
      ],
      "metadata": {
        "colab": {
          "base_uri": "https://localhost:8080/"
        },
        "id": "PJxg0cY3vJZy",
        "outputId": "4c8bd6f1-442d-4bdd-a2ba-1ad34630d9bf"
      },
      "execution_count": null,
      "outputs": [
        {
          "output_type": "stream",
          "name": "stdout",
          "text": [
            "현재 시간대ㅣ ('UTC', 'UTC')\n",
            "UTC와의 시차(초):  0\n"
          ]
        }
      ]
    },
    {
      "cell_type": "code",
      "source": [
        "from datetime import datetime\n",
        "from zoneinfo import ZoneInfo\n",
        "\n",
        "kst_now = datetime.now(ZoneInfo(\"Asia/Seoul\"))\n",
        "print(kst_now.strftime(\"%Y년 %m월 %d일 %H:%M:%S\"))"
      ],
      "metadata": {
        "colab": {
          "base_uri": "https://localhost:8080/"
        },
        "id": "q7m29YoMCZ95",
        "outputId": "dcc60b74-e77f-46b3-cef4-008b7bac1fc2"
      },
      "execution_count": null,
      "outputs": [
        {
          "output_type": "stream",
          "name": "stdout",
          "text": [
            "2025년 07월 11일 07:45:50\n"
          ]
        }
      ]
    },
    {
      "cell_type": "code",
      "source": [
        "time.ctime()"
      ],
      "metadata": {
        "colab": {
          "base_uri": "https://localhost:8080/",
          "height": 35
        },
        "id": "f6a8L3Vtl-pU",
        "outputId": "0a5d2ec9-e360-4025-e516-cf305af29e08"
      },
      "execution_count": null,
      "outputs": [
        {
          "output_type": "execute_result",
          "data": {
            "text/plain": [
              "'Thu Jul 10 22:45:50 2025'"
            ],
            "application/vnd.google.colaboratory.intrinsic+json": {
              "type": "string"
            }
          },
          "metadata": {},
          "execution_count": 9
        }
      ]
    },
    {
      "cell_type": "code",
      "source": [
        "time.strftime('%x', time.localtime(time.time()))"
      ],
      "metadata": {
        "colab": {
          "base_uri": "https://localhost:8080/",
          "height": 35
        },
        "id": "-zTH50bW1wV3",
        "outputId": "b775e831-ae88-4334-dc38-b80ef2a0c9c8"
      },
      "execution_count": null,
      "outputs": [
        {
          "output_type": "execute_result",
          "data": {
            "text/plain": [
              "'07/10/25'"
            ],
            "application/vnd.google.colaboratory.intrinsic+json": {
              "type": "string"
            }
          },
          "metadata": {},
          "execution_count": 37
        }
      ]
    },
    {
      "cell_type": "code",
      "source": [
        "time.strftime('%c', time.localtime(time.time()))"
      ],
      "metadata": {
        "colab": {
          "base_uri": "https://localhost:8080/",
          "height": 35
        },
        "id": "R8DcsKj72k24",
        "outputId": "beea1e76-7637-429f-a887-edbb8d12c484"
      },
      "execution_count": null,
      "outputs": [
        {
          "output_type": "execute_result",
          "data": {
            "text/plain": [
              "'Thu Jul 10 22:45:50 2025'"
            ],
            "application/vnd.google.colaboratory.intrinsic+json": {
              "type": "string"
            }
          },
          "metadata": {},
          "execution_count": 11
        }
      ]
    },
    {
      "cell_type": "code",
      "source": [
        "time.strftime('%Z', time.localtime(time.time()))"
      ],
      "metadata": {
        "colab": {
          "base_uri": "https://localhost:8080/",
          "height": 35
        },
        "id": "uhG0veZI2qhP",
        "outputId": "4cc40764-571d-4e84-d2f5-b173e03dfc00"
      },
      "execution_count": null,
      "outputs": [
        {
          "output_type": "execute_result",
          "data": {
            "text/plain": [
              "'UTC'"
            ],
            "application/vnd.google.colaboratory.intrinsic+json": {
              "type": "string"
            }
          },
          "metadata": {},
          "execution_count": 12
        }
      ]
    },
    {
      "cell_type": "code",
      "source": [
        "time.strftime('%Y %B %D  (%j일)', time.localtime(time.time()))"
      ],
      "metadata": {
        "colab": {
          "base_uri": "https://localhost:8080/",
          "height": 35
        },
        "id": "s8Ws3Mzm2zTG",
        "outputId": "f881cb03-b35a-42fe-f5d9-d16b318346c5"
      },
      "execution_count": null,
      "outputs": [
        {
          "output_type": "execute_result",
          "data": {
            "text/plain": [
              "'2025 July 07/10/25  (191일)'"
            ],
            "application/vnd.google.colaboratory.intrinsic+json": {
              "type": "string"
            }
          },
          "metadata": {},
          "execution_count": 13
        }
      ]
    },
    {
      "cell_type": "code",
      "source": [
        "time.strftime('오늘은 %Y년 %B월 %d일, %H시 %M분 %S초 입니다.', time.localtime(time.time()))"
      ],
      "metadata": {
        "colab": {
          "base_uri": "https://localhost:8080/",
          "height": 35
        },
        "id": "gk05hQkB34Fy",
        "outputId": "32d3e491-b23e-470c-ca3f-0de006d5c29a"
      },
      "execution_count": null,
      "outputs": [
        {
          "output_type": "execute_result",
          "data": {
            "text/plain": [
              "'오늘은 2025년 July월 10일, 22시 47분 01초 입니다.'"
            ],
            "application/vnd.google.colaboratory.intrinsic+json": {
              "type": "string"
            }
          },
          "metadata": {},
          "execution_count": 38
        }
      ]
    },
    {
      "cell_type": "markdown",
      "source": [
        "# time.sleep\n",
        "time.sleep()함수는 주로 루프 안에서 많이 사용한다. 이 함수를 사용하면 일정한 시간 간격을 두고 루프를 실행할 수 있다. time.sleep 함수의 인수는 실수 형태를 쓸 수 있다."
      ],
      "metadata": {
        "id": "_MLx1qg25Q8N"
      }
    },
    {
      "cell_type": "code",
      "source": [
        "import time\n",
        "for i in range(60):\n",
        "    print(i)\n",
        "    time.sleep(1)"
      ],
      "metadata": {
        "colab": {
          "base_uri": "https://localhost:8080/"
        },
        "id": "v8Yfu4LB5gSM",
        "outputId": "d323d30b-254a-4fa6-b6ed-545cdc231caa"
      },
      "execution_count": null,
      "outputs": [
        {
          "output_type": "stream",
          "name": "stdout",
          "text": [
            "0\n",
            "1\n",
            "2\n",
            "3\n",
            "4\n",
            "5\n",
            "6\n",
            "7\n",
            "8\n",
            "9\n",
            "10\n",
            "11\n",
            "12\n",
            "13\n",
            "14\n",
            "15\n",
            "16\n",
            "17\n",
            "18\n",
            "19\n",
            "20\n",
            "21\n",
            "22\n",
            "23\n",
            "24\n",
            "25\n",
            "26\n",
            "27\n",
            "28\n",
            "29\n",
            "30\n",
            "31\n",
            "32\n",
            "33\n",
            "34\n",
            "35\n",
            "36\n",
            "37\n",
            "38\n",
            "39\n",
            "40\n",
            "41\n",
            "42\n",
            "43\n",
            "44\n",
            "45\n",
            "46\n",
            "47\n",
            "48\n",
            "49\n",
            "50\n",
            "51\n",
            "52\n",
            "53\n",
            "54\n",
            "55\n",
            "56\n",
            "57\n",
            "58\n",
            "59\n"
          ]
        }
      ]
    },
    {
      "cell_type": "markdown",
      "source": [
        "time.localtime,, time.asctime, time.strftime 함수는 다음처럼 입력 인수 없이 사용할 수 있다. 입력 인수 없이 사용하면 현재 시각을 기준으로 함수가 수행된다."
      ],
      "metadata": {
        "id": "RejB7Phc6b2u"
      }
    },
    {
      "cell_type": "code",
      "source": [
        "import time\n",
        "time.localtime()"
      ],
      "metadata": {
        "colab": {
          "base_uri": "https://localhost:8080/"
        },
        "id": "fRZz949s6seW",
        "outputId": "e07c54a9-de20-4ce9-d0b5-7e86d470a39e"
      },
      "execution_count": null,
      "outputs": [
        {
          "output_type": "execute_result",
          "data": {
            "text/plain": [
              "time.struct_time(tm_year=2025, tm_mon=7, tm_mday=11, tm_hour=0, tm_min=21, tm_sec=28, tm_wday=4, tm_yday=192, tm_isdst=0)"
            ]
          },
          "metadata": {},
          "execution_count": 41
        }
      ]
    },
    {
      "cell_type": "code",
      "source": [
        "time.asctime()"
      ],
      "metadata": {
        "colab": {
          "base_uri": "https://localhost:8080/",
          "height": 35
        },
        "id": "XwqBpSeusbM9",
        "outputId": "48bf474c-711c-4ffc-b0f5-4506ed6c34d6"
      },
      "execution_count": null,
      "outputs": [
        {
          "output_type": "execute_result",
          "data": {
            "text/plain": [
              "'Thu Jul 10 22:46:05 2025'"
            ],
            "application/vnd.google.colaboratory.intrinsic+json": {
              "type": "string"
            }
          },
          "metadata": {},
          "execution_count": 17
        }
      ]
    },
    {
      "cell_type": "code",
      "source": [
        "time.strftime('%c')"
      ],
      "metadata": {
        "colab": {
          "base_uri": "https://localhost:8080/",
          "height": 35
        },
        "id": "scDVJSh0se9U",
        "outputId": "09459c9b-055e-411e-d42a-32cae627424a"
      },
      "execution_count": null,
      "outputs": [
        {
          "output_type": "execute_result",
          "data": {
            "text/plain": [
              "'Thu Jul 10 22:46:05 2025'"
            ],
            "application/vnd.google.colaboratory.intrinsic+json": {
              "type": "string"
            }
          },
          "metadata": {},
          "execution_count": 18
        }
      ]
    },
    {
      "cell_type": "markdown",
      "source": [
        "# math.gcd\n",
        "math.gcd 함수를 이용하면 최대공약수(gce, greatest common divisor)를 쉽게 구할 수 있다.\n",
        "# math.lcm\n",
        "최소공배수"
      ],
      "metadata": {
        "id": "BOuJ5Da6s1Gl"
      }
    },
    {
      "cell_type": "code",
      "source": [
        "import math\n",
        "math.gcd(60, 100, 80)"
      ],
      "metadata": {
        "colab": {
          "base_uri": "https://localhost:8080/"
        },
        "id": "yOXtO6UStAiN",
        "outputId": "b6713731-8b03-493d-87b2-b74579f97dc1"
      },
      "execution_count": null,
      "outputs": [
        {
          "output_type": "execute_result",
          "data": {
            "text/plain": [
              "20"
            ]
          },
          "metadata": {},
          "execution_count": 19
        }
      ]
    },
    {
      "cell_type": "code",
      "source": [
        "math.lcm(3, 5, 4)"
      ],
      "metadata": {
        "colab": {
          "base_uri": "https://localhost:8080/"
        },
        "id": "YJa1O1htuUo_",
        "outputId": "47f7d489-216a-4239-815d-ebecdbb1111f"
      },
      "execution_count": null,
      "outputs": [
        {
          "output_type": "execute_result",
          "data": {
            "text/plain": [
              "60"
            ]
          },
          "metadata": {},
          "execution_count": 20
        }
      ]
    },
    {
      "cell_type": "code",
      "source": [
        "def get_divisor(n):\n",
        "    divisors = set()\n",
        "    for i in range(1, int(n**0.5)+1):\n",
        "        print((n**0.5)+1)\n",
        "        if n % i == 0:\n",
        "            print(n)\n",
        "            divisors.add(i)\n",
        "            print(i)\n",
        "            divisors.add(n // i)\n",
        "            print(n//i)\n",
        "    return sorted(divisors)"
      ],
      "metadata": {
        "id": "ANgKQ50Bu_iV"
      },
      "execution_count": null,
      "outputs": []
    },
    {
      "cell_type": "code",
      "source": [
        "gcd = math.gcd(12, 10, 8)\n",
        "divs = get_divisor(gcd)\n",
        "print(divs)\n",
        "max(divs)"
      ],
      "metadata": {
        "colab": {
          "base_uri": "https://localhost:8080/"
        },
        "id": "4l7yp_zRvjPS",
        "outputId": "52de6baf-ba17-467b-8e74-d54cafb00309"
      },
      "execution_count": null,
      "outputs": [
        {
          "output_type": "stream",
          "name": "stdout",
          "text": [
            "2.414213562373095\n",
            "2\n",
            "1\n",
            "2\n",
            "[1, 2]\n"
          ]
        },
        {
          "output_type": "execute_result",
          "data": {
            "text/plain": [
              "2"
            ]
          },
          "metadata": {},
          "execution_count": 53
        }
      ]
    },
    {
      "cell_type": "code",
      "source": [
        "import math\n",
        "a = math.lcm(15, 25) // 60\n",
        "b = math.lcm(15, 25) % 60\n",
        "print(f'{a}시간 {b}분 뒤에 두 버스가 동시에 옵니다.')"
      ],
      "metadata": {
        "colab": {
          "base_uri": "https://localhost:8080/"
        },
        "id": "vfzWN6tc3pzf",
        "outputId": "d1a5ca62-1b3f-4ab6-a540-4f9cde3b2a40"
      },
      "execution_count": null,
      "outputs": [
        {
          "output_type": "stream",
          "name": "stdout",
          "text": [
            "1시간 15분 뒤에 두 버스가 동시에 옵니다.\n"
          ]
        }
      ]
    },
    {
      "cell_type": "markdown",
      "source": [
        "# random\n",
        "random은 난수를 발생시키는 모듈이다.\n",
        "random.random()은 0.0과 1.0 사이의 실수 사이에서 실수 난수값을 리턴하는 함수이다. 인수를 받지 않는다.\n",
        "\n",
        "임의의 두 실수 사이에 실수 난수를 발생시키려면 random.uniform(a, b)를 쓴다."
      ],
      "metadata": {
        "id": "Udde7Q0D4ngP"
      }
    },
    {
      "cell_type": "code",
      "source": [
        "import random\n",
        "random.random()"
      ],
      "metadata": {
        "colab": {
          "base_uri": "https://localhost:8080/"
        },
        "id": "r1XybyoI4_Gw",
        "outputId": "ade1d77d-260d-48c1-dcae-9d48308b24f1"
      },
      "execution_count": null,
      "outputs": [
        {
          "output_type": "execute_result",
          "data": {
            "text/plain": [
              "0.18881912171033188"
            ]
          },
          "metadata": {},
          "execution_count": 24
        }
      ]
    },
    {
      "cell_type": "code",
      "source": [
        "random.uniform(1.0, 100.0)"
      ],
      "metadata": {
        "colab": {
          "base_uri": "https://localhost:8080/"
        },
        "id": "mPwJ1q9x5otv",
        "outputId": "1d45f395-6c7d-486f-caad-580167020e8b"
      },
      "execution_count": null,
      "outputs": [
        {
          "output_type": "execute_result",
          "data": {
            "text/plain": [
              "75.53757022251457"
            ]
          },
          "metadata": {},
          "execution_count": 25
        }
      ]
    },
    {
      "cell_type": "code",
      "source": [
        "random.uniform(1.0, 1.5)"
      ],
      "metadata": {
        "colab": {
          "base_uri": "https://localhost:8080/"
        },
        "id": "BTvTJS_l6VmQ",
        "outputId": "58f32178-e036-4af0-babd-71c7963a9820"
      },
      "execution_count": null,
      "outputs": [
        {
          "output_type": "execute_result",
          "data": {
            "text/plain": [
              "1.2723324970380596"
            ]
          },
          "metadata": {},
          "execution_count": 26
        }
      ]
    },
    {
      "cell_type": "code",
      "source": [],
      "metadata": {
        "id": "NJfffyzy6VG3"
      },
      "execution_count": null,
      "outputs": []
    },
    {
      "cell_type": "markdown",
      "source": [
        "random.randint(a, b)는 a와 b 두 정수 사이의 정수 중에서 난수(정수)를 리턴해 준다."
      ],
      "metadata": {
        "id": "rdJRV_2x5L4m"
      }
    },
    {
      "cell_type": "code",
      "source": [
        "random.randint(0, 55)"
      ],
      "metadata": {
        "colab": {
          "base_uri": "https://localhost:8080/"
        },
        "id": "Rb2w3KLq5Y2N",
        "outputId": "bb10de75-3634-4ce3-b3e0-a34a4cf6eda7"
      },
      "execution_count": null,
      "outputs": [
        {
          "output_type": "execute_result",
          "data": {
            "text/plain": [
              "18"
            ]
          },
          "metadata": {},
          "execution_count": 54
        }
      ]
    },
    {
      "cell_type": "markdown",
      "source": [
        "# random.randrange() 함수 개요\n",
        "역할: start 이상 stop 미만의 정수 중 하나를 무작위로 반환합니다. step은 선택 사항으로, 등차수열 간격을 짖입니다.\n",
        "\n",
        "randrange(a, b)\ta 이상 b 미만\trandrange(1, 5)  1~4 중 랜덤\tb 제외\n",
        "randint(a, b)\ta 이상 b 이하\trandint(1, 5)  1~5\n",
        "중 랜덤\tb 포함\n",
        "\n",
        "---\n",
        "\n"
      ],
      "metadata": {
        "id": "ap3pDwy963_E"
      }
    },
    {
      "cell_type": "code",
      "source": [
        "import random\n",
        "\n",
        "print(random.randrange(100))\n",
        "print(random.randint(0, 10))\n",
        "print(random.randrange(0, 10))\n",
        "\n",
        "print(random.randrange(5, 10, 2))\n",
        "print(random.randint(5, 100))"
      ],
      "metadata": {
        "colab": {
          "base_uri": "https://localhost:8080/"
        },
        "id": "SG1qiXtm6xYc",
        "outputId": "1b31e1c0-25e7-4d0d-d2ac-2ae4e1e174e5"
      },
      "execution_count": null,
      "outputs": [
        {
          "output_type": "stream",
          "name": "stdout",
          "text": [
            "77\n",
            "10\n",
            "2\n",
            "5\n",
            "16\n"
          ]
        }
      ]
    },
    {
      "cell_type": "markdown",
      "source": [
        "random.choice() 함수는 **시퀀스(순서가 있는 자료형)**에서 무작위로 하나의 요소를 선택해주는 함수입니다. 순서있는 자료형이란 리스트, 문자열 튜풀 range 등 인덱싱이 가능한 자료형을 의미합니다. 반환값은 시퀀스에서 무작위로 선택된 하나의 요소입니다."
      ],
      "metadata": {
        "id": "wDVqEUlN8_Nq"
      }
    },
    {
      "cell_type": "code",
      "source": [
        "import random\n",
        "colors = ('red', 'green', 'blue', 'yellow')\n",
        "print(random.choice(colors))\n",
        "print(random.choice('삶이 아름다운 시절, 그 때는 언제일까요?'))\n",
        "nums = (10, 20, 30, 40)\n",
        "print(random.choice(nums))\n",
        "print(random.choice(range(1, 100)))"
      ],
      "metadata": {
        "colab": {
          "base_uri": "https://localhost:8080/"
        },
        "id": "R026Y_BO9im3",
        "outputId": "30a4c2e5-4983-453e-ca12-aec1ddb04ed1"
      },
      "execution_count": null,
      "outputs": [
        {
          "output_type": "stream",
          "name": "stdout",
          "text": [
            "green\n",
            "아\n",
            "10\n",
            "24\n"
          ]
        }
      ]
    },
    {
      "cell_type": "markdown",
      "source": [
        "# Lotto 번호 채번"
      ],
      "metadata": {
        "id": "ulC9z8QYGZQO"
      }
    },
    {
      "cell_type": "code",
      "source": [
        "import random\n",
        "def random_pop(data):\n",
        "    number = random.randint(0, len(data) - 1)\n",
        "    return data.pop(number)\n",
        "\n",
        "if __name__ == \"__main__\":\n",
        "    data = list(range(1, 46))\n",
        "    while len(data)>39:\n",
        "        print(random_pop(data))"
      ],
      "metadata": {
        "colab": {
          "base_uri": "https://localhost:8080/"
        },
        "id": "xQFL77Mx6cI-",
        "outputId": "68ab0dc6-66bf-4f8c-bc05-2094762b5ead"
      },
      "execution_count": null,
      "outputs": [
        {
          "output_type": "stream",
          "name": "stdout",
          "text": [
            "1\n",
            "30\n",
            "22\n",
            "41\n",
            "29\n",
            "26\n"
          ]
        }
      ]
    },
    {
      "cell_type": "code",
      "source": [
        "import random\n",
        "def random_pop(data):\n",
        "    number = random.choice(data)\n",
        "    data.remove(number)\n",
        "    return number\n",
        "\n",
        "if __name__ == \"__main__\":\n",
        "    data = list(range(1, 46))\n",
        "    while len(data)>39:\n",
        "        print(random_pop(data))"
      ],
      "metadata": {
        "colab": {
          "base_uri": "https://localhost:8080/"
        },
        "id": "pVngyBbEGel9",
        "outputId": "eff4976d-71d4-4525-a0d5-800091c07d05"
      },
      "execution_count": 120,
      "outputs": [
        {
          "output_type": "stream",
          "name": "stdout",
          "text": [
            "14\n",
            "42\n",
            "18\n",
            "27\n",
            "10\n",
            "19\n"
          ]
        }
      ]
    },
    {
      "cell_type": "markdown",
      "source": [
        "randon.choice 함수는 입력으로 받은 리스트에서 무작위로 하나을 선택하열 리턴한다.\n",
        "리스트의 항목을 무작위로 섞고 싶을 때에는 random.sample 함수를 사용하면 된다."
      ],
      "metadata": {
        "id": "YaVnTu8GO4Vh"
      }
    },
    {
      "cell_type": "code",
      "source": [
        "import random\n",
        "data = [5, 6, 7, 8,9, 10]\n",
        "data2 = random.sample(data, len(data))\n",
        "print(data2)\n",
        "data3 = random.sample(data, len(data)-2)\n",
        "print(data3)\n",
        "print(data)"
      ],
      "metadata": {
        "colab": {
          "base_uri": "https://localhost:8080/"
        },
        "id": "21bKk_QRPIyK",
        "outputId": "9e264891-8e76-48f1-9083-dc3caec7759b"
      },
      "execution_count": 141,
      "outputs": [
        {
          "output_type": "stream",
          "name": "stdout",
          "text": [
            "[9, 5, 6, 7, 10, 8]\n",
            "[7, 9, 8, 10]\n",
            "[5, 6, 7, 8, 9, 10]\n"
          ]
        }
      ]
    },
    {
      "cell_type": "code",
      "source": [
        "students = ['한민서', '황지민', '이영철', '이광수', '김승민']\n",
        "snacks =['Candy', ' Chocollette', 'Jelly']\n",
        "result = zip(students, snacks)\n",
        "print(list(result))"
      ],
      "metadata": {
        "colab": {
          "base_uri": "https://localhost:8080/"
        },
        "id": "TaL03mEbuMFL",
        "outputId": "d556757c-136c-4032-b901-a7c4ee60e251"
      },
      "execution_count": 6,
      "outputs": [
        {
          "output_type": "stream",
          "name": "stdout",
          "text": [
            "[('한민서', 'Candy'), ('황지민', ' Chocollette'), ('이영철', 'Jelly')]\n"
          ]
        }
      ]
    },
    {
      "cell_type": "code",
      "source": [
        "import itertools\n",
        "\n",
        "students = ['한민서', '황지민', '이영철', '이광수', '김승민']\n",
        "snacks =['Candy', ' Chocollette', 'Jelly']\n",
        "result = itertools.zip_longest(students, snacks, fillvalue = '새우깡')\n",
        "print(list(result))"
      ],
      "metadata": {
        "colab": {
          "base_uri": "https://localhost:8080/"
        },
        "id": "aHu_0No0xuNl",
        "outputId": "7a13c996-6c6b-4ef1-f584-b3ed63df3dc5"
      },
      "execution_count": 7,
      "outputs": [
        {
          "output_type": "stream",
          "name": "stdout",
          "text": [
            "[('한민서', 'Candy'), ('황지민', ' Chocollette'), ('이영철', 'Jelly'), ('이광수', '새우깡'), ('김승민', '새우깡')]\n"
          ]
        }
      ]
    },
    {
      "cell_type": "code",
      "source": [
        "import itertools\n",
        "students = ['한민서', '황지민', '이영철', '이광수', '김승민']\n",
        "nPr = itertools.permutations(students,3)\n",
        "\n",
        "print(len(list(nPr)))\n"
      ],
      "metadata": {
        "colab": {
          "base_uri": "https://localhost:8080/"
        },
        "id": "QsSY4HdJ_vQM",
        "outputId": "1f7e7359-a4a6-4c57-db64-0752455763da"
      },
      "execution_count": 25,
      "outputs": [
        {
          "output_type": "stream",
          "name": "stdout",
          "text": [
            "60\n"
          ]
        }
      ]
    },
    {
      "cell_type": "code",
      "source": [
        "import itertools\n",
        "students = ['한민서', '황지민', '이영철', '이광수', '김승민']\n",
        "nPr = itertools.permutations(students,3)\n",
        "print(list(nPr))\n",
        "\n"
      ],
      "metadata": {
        "colab": {
          "base_uri": "https://localhost:8080/"
        },
        "id": "4pZdoCCqC7kP",
        "outputId": "b26a9b3c-9a76-4e1c-952a-c594d514da4e"
      },
      "execution_count": 26,
      "outputs": [
        {
          "output_type": "stream",
          "name": "stdout",
          "text": [
            "[('한민서', '황지민', '이영철'), ('한민서', '황지민', '이광수'), ('한민서', '황지민', '김승민'), ('한민서', '이영철', '황지민'), ('한민서', '이영철', '이광수'), ('한민서', '이영철', '김승민'), ('한민서', '이광수', '황지민'), ('한민서', '이광수', '이영철'), ('한민서', '이광수', '김승민'), ('한민서', '김승민', '황지민'), ('한민서', '김승민', '이영철'), ('한민서', '김승민', '이광수'), ('황지민', '한민서', '이영철'), ('황지민', '한민서', '이광수'), ('황지민', '한민서', '김승민'), ('황지민', '이영철', '한민서'), ('황지민', '이영철', '이광수'), ('황지민', '이영철', '김승민'), ('황지민', '이광수', '한민서'), ('황지민', '이광수', '이영철'), ('황지민', '이광수', '김승민'), ('황지민', '김승민', '한민서'), ('황지민', '김승민', '이영철'), ('황지민', '김승민', '이광수'), ('이영철', '한민서', '황지민'), ('이영철', '한민서', '이광수'), ('이영철', '한민서', '김승민'), ('이영철', '황지민', '한민서'), ('이영철', '황지민', '이광수'), ('이영철', '황지민', '김승민'), ('이영철', '이광수', '한민서'), ('이영철', '이광수', '황지민'), ('이영철', '이광수', '김승민'), ('이영철', '김승민', '한민서'), ('이영철', '김승민', '황지민'), ('이영철', '김승민', '이광수'), ('이광수', '한민서', '황지민'), ('이광수', '한민서', '이영철'), ('이광수', '한민서', '김승민'), ('이광수', '황지민', '한민서'), ('이광수', '황지민', '이영철'), ('이광수', '황지민', '김승민'), ('이광수', '이영철', '한민서'), ('이광수', '이영철', '황지민'), ('이광수', '이영철', '김승민'), ('이광수', '김승민', '한민서'), ('이광수', '김승민', '황지민'), ('이광수', '김승민', '이영철'), ('김승민', '한민서', '황지민'), ('김승민', '한민서', '이영철'), ('김승민', '한민서', '이광수'), ('김승민', '황지민', '한민서'), ('김승민', '황지민', '이영철'), ('김승민', '황지민', '이광수'), ('김승민', '이영철', '한민서'), ('김승민', '이영철', '황지민'), ('김승민', '이영철', '이광수'), ('김승민', '이광수', '한민서'), ('김승민', '이광수', '황지민'), ('김승민', '이광수', '이영철')]\n"
          ]
        }
      ]
    }
  ]
}