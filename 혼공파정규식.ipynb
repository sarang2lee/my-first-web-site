{
  "nbformat": 4,
  "nbformat_minor": 0,
  "metadata": {
    "colab": {
      "provenance": [],
      "authorship_tag": "ABX9TyNywKAwWLDO8uyLTHk98RFp",
      "include_colab_link": true
    },
    "kernelspec": {
      "name": "python3",
      "display_name": "Python 3"
    },
    "language_info": {
      "name": "python"
    }
  },
  "cells": [
    {
      "cell_type": "markdown",
      "metadata": {
        "id": "view-in-github",
        "colab_type": "text"
      },
      "source": [
        "<a href=\"https://colab.research.google.com/github/sarang2lee/my-first-web-site/blob/main/%ED%98%BC%EA%B3%B5%ED%8C%8C%EC%A0%95%EA%B7%9C%EC%8B%9D.ipynb\" target=\"_parent\"><img src=\"https://colab.research.google.com/assets/colab-badge.svg\" alt=\"Open In Colab\"/></a>"
      ]
    },
    {
      "cell_type": "code",
      "execution_count": null,
      "metadata": {
        "colab": {
          "base_uri": "https://localhost:8080/"
        },
        "id": "V31OU-NuHnxC",
        "outputId": "5b4e1cc0-f06a-41b1-a45b-e321e931877c"
      },
      "outputs": [
        {
          "output_type": "stream",
          "name": "stdout",
          "text": [
            "정수 입력>52\n",
            "원의 반지름: 52.00\n",
            "원의 둘레: 326.6\n",
            "원의 넓이:  8490.560\n",
            "예외가 발생하지 않았습니다.\n",
            "일단 프로그램이 어떻게든 끝났습니다.\n"
          ]
        }
      ],
      "source": [
        "try:\n",
        "    number_input_a = int(input(\"정수 입력>\"))\n",
        "    print(f'원의 반지름: {number_input_a:.2f}')\n",
        "    print(f\"원의 둘레: {2 * 3.14 * number_input_a:.1f}\")\n",
        "    print(f\"원의 넓이: {3.14 * number_input_a * number_input_a: 6.3f}\")\n",
        "except:\n",
        "    print(\"정수를 입력해 달라고 했잖아요\")\n",
        "else:\n",
        "    print(\"예외가 발생하지 않았습니다.\")\n",
        "finally:\n",
        "    print(\"일단 프로그램이 어떻게든 끝났습니다.\")"
      ]
    },
    {
      "cell_type": "code",
      "source": [
        "try:\n",
        "    file = open(\"info.txt\", \"w\")\n",
        "    file.close()\n",
        "except Exception as e:\n",
        "    print(e)\n",
        "\n",
        "print(\"# 파일이 제대로 닫혔는지 확인하기\")\n",
        "print(\"file.closed:\", file.closed)"
      ],
      "metadata": {
        "colab": {
          "base_uri": "https://localhost:8080/"
        },
        "id": "5OBsOFehMlMD",
        "outputId": "49cdeeed-a704-4f99-c18a-3969d5628842"
      },
      "execution_count": null,
      "outputs": [
        {
          "output_type": "stream",
          "name": "stdout",
          "text": [
            "# 파일이 제대로 닫혔는지 확인하기\n",
            "file.closed: True\n"
          ]
        }
      ]
    },
    {
      "cell_type": "code",
      "source": [
        "try:\n",
        "    file = open(\"info.txt\", \"w\")\n",
        "    예외.발생해라()\n",
        "    file.close()\n",
        "except Exception as e:\n",
        "    print(e)\n",
        "finally:\n",
        "    file.close()\n",
        "\n",
        "print(\"# 파일이 제대로 닫혔는지 확인하기\")\n",
        "print(\"file.closed:\", file.closed)"
      ],
      "metadata": {
        "colab": {
          "base_uri": "https://localhost:8080/"
        },
        "id": "FzGbOF_xMmhV",
        "outputId": "85b2d88e-d87f-4881-de9f-428be8ffd14f"
      },
      "execution_count": null,
      "outputs": [
        {
          "output_type": "stream",
          "name": "stdout",
          "text": [
            "name '예외' is not defined\n",
            "# 파일이 제대로 닫혔는지 확인하기\n",
            "file.closed: True\n"
          ]
        }
      ]
    },
    {
      "cell_type": "code",
      "source": [
        "try:\n",
        "    file = open(\"info.txt\", \"w\")\n",
        "    예외. 발생해라()\n",
        "except Exception as e:\n",
        "    print(e)\n",
        "\n",
        "file.close()\n",
        "print(\"# 파일이 제대로 닫혔는지 확인하기\")\n",
        "print(\"file.closed:\", file.closed)"
      ],
      "metadata": {
        "colab": {
          "base_uri": "https://localhost:8080/"
        },
        "id": "4IffhlfqOwq4",
        "outputId": "a3f9ea29-227e-4055-83e2-71e184dbd95a"
      },
      "execution_count": null,
      "outputs": [
        {
          "output_type": "stream",
          "name": "stdout",
          "text": [
            "name '예외' is not defined\n",
            "# 파일이 제대로 닫혔는지 확인하기\n",
            "file.closed: True\n"
          ]
        }
      ]
    },
    {
      "cell_type": "code",
      "source": [
        "def test():\n",
        "    print(\"test() 함수의 첫 줄입니다.\")\n",
        "    try:\n",
        "        print(\"try 구문이 실행되었습니다.\")\n",
        "        return\n",
        "        print(\"try 구문의 return 키워드 뒤입니다.\")\n",
        "    except:\n",
        "        print(\"except 구문이 실행되었습니다.\")\n",
        "    else:\n",
        "        print(\"else 구문이 실행되었습니다.\")\n",
        "    finally:\n",
        "        print(\"finally 구문이 실행되었습니다.\")\n",
        "    print(\"test() 함수의 마지막 줄입니다.\")\n",
        "test()\n"
      ],
      "metadata": {
        "colab": {
          "base_uri": "https://localhost:8080/"
        },
        "id": "aXoI2KqGPbDY",
        "outputId": "26b75e49-46df-417e-e0c3-1039ee96893e"
      },
      "execution_count": null,
      "outputs": [
        {
          "output_type": "stream",
          "name": "stdout",
          "text": [
            "test() 함수의 첫 줄입니다.\n",
            "try 구문이 실행되었습니다.\n",
            "finally 구문이 실행되었습니다.\n"
          ]
        }
      ]
    },
    {
      "cell_type": "markdown",
      "source": [
        "try 구문 중간에서 탈출해도 finally 구문은 무조건 실행됩니다. 따라서 함수 내부에서 파일 처리 코드를 깔끔하게 만들고 싶은 때 finally 구문을 활용하는 경우가 많습니다. try 구문에서 원할 때 return 키워드로 빠져나가도 파일이 무조건 닫히기 때문입니다."
      ],
      "metadata": {
        "id": "BJqpo1S_QYte"
      }
    },
    {
      "cell_type": "code",
      "source": [
        "def write_text_file(filename, text):\n",
        "    try:\n",
        "        file = open(filename, \"w\")\n",
        "        return\n",
        "        file.write(text)\n",
        "    except Exception as e:\n",
        "        print(e)\n",
        "    finally:\n",
        "        file.close()\n",
        "write_text_file(\"text.txt\", \"안녕하세요\")"
      ],
      "metadata": {
        "id": "W4Xx25DZQxUD"
      },
      "execution_count": null,
      "outputs": []
    },
    {
      "cell_type": "markdown",
      "source": [
        "finally 구문에서 close() 함수를 호출하도록 코드를 작성하면 코드가 깔끔해집니다.\n",
        "반복문에서 break로 빠져나갈 때도 마찬가지입니다."
      ],
      "metadata": {
        "id": "MxDQ31wORbc1"
      }
    },
    {
      "cell_type": "code",
      "source": [
        "print(\"Program Start!\")\n",
        "\n",
        "while True:\n",
        "    try:\n",
        "        print(\"try 구문이 실행되었습니다\")\n",
        "        break\n",
        "        print(\"try 구문의 break 키워드 뒤입니다.\")\n",
        "    except:\n",
        "        print(\"except 구문이 실행되었습니다.\")\n",
        "    finally:\n",
        "        print(\"finally 구문이 실행되었습니다.\")\n",
        "\n",
        "    print(\"while 반복문의 마지막 줄입니다.\")\n",
        "print(\"Program End!\")\n"
      ],
      "metadata": {
        "colab": {
          "base_uri": "https://localhost:8080/"
        },
        "id": "ajgwuO8ORq-w",
        "outputId": "7119df83-8ecd-4bea-a3a8-c66797eb8cfe"
      },
      "execution_count": null,
      "outputs": [
        {
          "output_type": "stream",
          "name": "stdout",
          "text": [
            "Program Start!\n",
            "try 구문이 실행되었습니다\n",
            "finally 구문이 실행되었습니다.\n",
            "Program End!\n"
          ]
        }
      ]
    },
    {
      "cell_type": "markdown",
      "source": [
        "구문 오류는 프로그램의 문법적 오류로 프로그램이 실행조차 되지 않게 만드는 오류입니다.\n",
        "예외는 런타임 에러라고도 하며, 프로그램 실행 중에 발생하는 오류입니다. try catch 구문으로 처리할 수 있습니다.\n",
        "try except else finally 구문으로 처리할 수 있습니다."
      ],
      "metadata": {
        "id": "myzIO0-2SmhV"
      }
    },
    {
      "cell_type": "code",
      "source": [
        "numbers = [52, 273, 32, 103, 90, 10, 275]\n",
        "\n",
        "print(\"# (1) 요소 내부에 있는 값 찾기\")\n",
        "print(\"- {}는 {} 위치에 있습니다.\".format(275, numbers.index(275)))\n",
        "print()\n",
        "\n",
        "print(\"# (2) 요소 내부에 없는 값 찾기\")\n",
        "number = 1000\n",
        "try:\n",
        "    print(\"- {}는 {} 위치에 있습니다.\".format(number, numbers.index(number)))\n",
        "except:\n",
        "    print(\"- 리스트 내부에 없는 값입니다.\")\n",
        "    print()\n",
        "    print(\"---- 정상 종료되었습니다. ----\")"
      ],
      "metadata": {
        "colab": {
          "base_uri": "https://localhost:8080/"
        },
        "id": "YzN5mmrxUwo6",
        "outputId": "c0713894-482b-4c81-87d0-f4db07c007dd"
      },
      "execution_count": null,
      "outputs": [
        {
          "output_type": "stream",
          "name": "stdout",
          "text": [
            "# (1) 요소 내부에 있는 값 찾기\n",
            "- 275는 6 위치에 있습니다.\n",
            "\n",
            "# (2) 요소 내부에 없는 값 찾기\n",
            "- 리스트 내부에 없는 값입니다.\n",
            "\n",
            "---- 정상 종료되었습니다. ----\n"
          ]
        }
      ]
    },
    {
      "cell_type": "code",
      "source": [
        "output = 10 + \"개\"\n",
        "int(\"안녕하세요\")\n",
        "cursor.close)\n",
        "[1, 2, 3, 4, 5][10]\n"
      ],
      "metadata": {
        "colab": {
          "base_uri": "https://localhost:8080/",
          "height": 112
        },
        "id": "2K02KSyNWPna",
        "outputId": "0df51e0f-aa90-4303-f009-5d936f9c43a0"
      },
      "execution_count": null,
      "outputs": [
        {
          "output_type": "error",
          "ename": "SyntaxError",
          "evalue": "unmatched ')' (ipython-input-36-3845533333.py, line 3)",
          "traceback": [
            "\u001b[0;36m  File \u001b[0;32m\"/tmp/ipython-input-36-3845533333.py\"\u001b[0;36m, line \u001b[0;32m3\u001b[0m\n\u001b[0;31m    cursor.close)\u001b[0m\n\u001b[0m                ^\u001b[0m\n\u001b[0;31mSyntaxError\u001b[0m\u001b[0;31m:\u001b[0m unmatched ')'\n"
          ]
        }
      ]
    },
    {
      "cell_type": "code",
      "source": [
        "try:\n",
        "    number_input_a = int(input(\"정수 입력: \"))\n",
        "    print(\"원의 반지름: \", number_input_a)\n",
        "    print(\"원의 둘레: \", 2 * 3.14 * number_input_a)\n",
        "    print(\"원의 넓이: \", 3.14 * number_input_a * number_input_a)\n",
        "except Exception as exception:\n",
        "    print(\"type(exception):\", type(exception))\n",
        "    print(\"exception:\",exception)"
      ],
      "metadata": {
        "colab": {
          "base_uri": "https://localhost:8080/"
        },
        "id": "brATW2TEVlU1",
        "outputId": "a4e25024-4c9d-404b-ef4e-7a23babbfd11"
      },
      "execution_count": null,
      "outputs": [
        {
          "output_type": "stream",
          "name": "stdout",
          "text": [
            "정수 입력: 789\n",
            "원의 반지름:  789\n",
            "원의 둘레:  4954.92\n",
            "원의 넓이:  1954715.94\n"
          ]
        }
      ]
    },
    {
      "cell_type": "code",
      "source": [
        "list_number = [52, 273, 32, 72, 100, 54, 87, 1000]\n",
        "try:\n",
        "    number_input = int(input(\"정수 입력>>\"))\n",
        "    print(\"{}번째 요소: {}\".format(number_input, list_number[number_input]))\n",
        "\n",
        "except ValueError as exception:\n",
        "    print(\"정수를 입력하세요. >> \")\n",
        "    print(\"exception:\", exception)\n",
        "except IndexError as exception:\n",
        "    print(\"리스트의 인덱스를 벗어났습니다.\")\n",
        "    print(\"exception:\", exception)\n",
        "except Exception as exception:\n",
        "    print(\"An unexpected error occurred:\")\n",
        "    print(\"exception:\", exception)"
      ],
      "metadata": {
        "colab": {
          "base_uri": "https://localhost:8080/",
          "height": 379
        },
        "id": "I1EMUq2nYIgs",
        "outputId": "39e0e499-8884-40d7-88fe-76df6988412a"
      },
      "execution_count": null,
      "outputs": [
        {
          "output_type": "error",
          "ename": "KeyboardInterrupt",
          "evalue": "Interrupted by user",
          "traceback": [
            "\u001b[0;31m---------------------------------------------------------------------------\u001b[0m",
            "\u001b[0;31mKeyboardInterrupt\u001b[0m                         Traceback (most recent call last)",
            "\u001b[0;32m/tmp/ipython-input-19-1912209866.py\u001b[0m in \u001b[0;36m<cell line: 0>\u001b[0;34m()\u001b[0m\n\u001b[1;32m      1\u001b[0m \u001b[0mlist_number\u001b[0m \u001b[0;34m=\u001b[0m \u001b[0;34m[\u001b[0m\u001b[0;36m52\u001b[0m\u001b[0;34m,\u001b[0m \u001b[0;36m273\u001b[0m\u001b[0;34m,\u001b[0m \u001b[0;36m32\u001b[0m\u001b[0;34m,\u001b[0m \u001b[0;36m72\u001b[0m\u001b[0;34m,\u001b[0m \u001b[0;36m100\u001b[0m\u001b[0;34m,\u001b[0m \u001b[0;36m54\u001b[0m\u001b[0;34m,\u001b[0m \u001b[0;36m87\u001b[0m\u001b[0;34m,\u001b[0m \u001b[0;36m1000\u001b[0m\u001b[0;34m]\u001b[0m\u001b[0;34m\u001b[0m\u001b[0;34m\u001b[0m\u001b[0m\n\u001b[1;32m      2\u001b[0m \u001b[0;32mtry\u001b[0m\u001b[0;34m:\u001b[0m\u001b[0;34m\u001b[0m\u001b[0;34m\u001b[0m\u001b[0m\n\u001b[0;32m----> 3\u001b[0;31m     \u001b[0mnumber_input\u001b[0m \u001b[0;34m=\u001b[0m \u001b[0mint\u001b[0m\u001b[0;34m(\u001b[0m\u001b[0minput\u001b[0m\u001b[0;34m(\u001b[0m\u001b[0;34m\"정수 입력>>\"\u001b[0m\u001b[0;34m)\u001b[0m\u001b[0;34m)\u001b[0m\u001b[0;34m\u001b[0m\u001b[0;34m\u001b[0m\u001b[0m\n\u001b[0m\u001b[1;32m      4\u001b[0m     \u001b[0mprint\u001b[0m\u001b[0;34m(\u001b[0m\u001b[0;34m\"{}번째 요소: {}\"\u001b[0m\u001b[0;34m.\u001b[0m\u001b[0mformat\u001b[0m\u001b[0;34m(\u001b[0m\u001b[0mnumber_input\u001b[0m\u001b[0;34m,\u001b[0m \u001b[0mlist_number\u001b[0m\u001b[0;34m[\u001b[0m\u001b[0mnumber_input\u001b[0m\u001b[0;34m]\u001b[0m\u001b[0;34m)\u001b[0m\u001b[0;34m)\u001b[0m\u001b[0;34m\u001b[0m\u001b[0;34m\u001b[0m\u001b[0m\n\u001b[1;32m      5\u001b[0m \u001b[0;34m\u001b[0m\u001b[0m\n",
            "\u001b[0;32m/usr/local/lib/python3.11/dist-packages/ipykernel/kernelbase.py\u001b[0m in \u001b[0;36mraw_input\u001b[0;34m(self, prompt)\u001b[0m\n\u001b[1;32m   1175\u001b[0m                 \u001b[0;34m\"raw_input was called, but this frontend does not support input requests.\"\u001b[0m\u001b[0;34m\u001b[0m\u001b[0;34m\u001b[0m\u001b[0m\n\u001b[1;32m   1176\u001b[0m             )\n\u001b[0;32m-> 1177\u001b[0;31m         return self._input_request(\n\u001b[0m\u001b[1;32m   1178\u001b[0m             \u001b[0mstr\u001b[0m\u001b[0;34m(\u001b[0m\u001b[0mprompt\u001b[0m\u001b[0;34m)\u001b[0m\u001b[0;34m,\u001b[0m\u001b[0;34m\u001b[0m\u001b[0;34m\u001b[0m\u001b[0m\n\u001b[1;32m   1179\u001b[0m             \u001b[0mself\u001b[0m\u001b[0;34m.\u001b[0m\u001b[0m_parent_ident\u001b[0m\u001b[0;34m[\u001b[0m\u001b[0;34m\"shell\"\u001b[0m\u001b[0;34m]\u001b[0m\u001b[0;34m,\u001b[0m\u001b[0;34m\u001b[0m\u001b[0;34m\u001b[0m\u001b[0m\n",
            "\u001b[0;32m/usr/local/lib/python3.11/dist-packages/ipykernel/kernelbase.py\u001b[0m in \u001b[0;36m_input_request\u001b[0;34m(self, prompt, ident, parent, password)\u001b[0m\n\u001b[1;32m   1217\u001b[0m             \u001b[0;32mexcept\u001b[0m \u001b[0mKeyboardInterrupt\u001b[0m\u001b[0;34m:\u001b[0m\u001b[0;34m\u001b[0m\u001b[0;34m\u001b[0m\u001b[0m\n\u001b[1;32m   1218\u001b[0m                 \u001b[0;31m# re-raise KeyboardInterrupt, to truncate traceback\u001b[0m\u001b[0;34m\u001b[0m\u001b[0;34m\u001b[0m\u001b[0m\n\u001b[0;32m-> 1219\u001b[0;31m                 \u001b[0;32mraise\u001b[0m \u001b[0mKeyboardInterrupt\u001b[0m\u001b[0;34m(\u001b[0m\u001b[0;34m\"Interrupted by user\"\u001b[0m\u001b[0;34m)\u001b[0m \u001b[0;32mfrom\u001b[0m \u001b[0;32mNone\u001b[0m\u001b[0;34m\u001b[0m\u001b[0;34m\u001b[0m\u001b[0m\n\u001b[0m\u001b[1;32m   1220\u001b[0m             \u001b[0;32mexcept\u001b[0m \u001b[0mException\u001b[0m\u001b[0;34m:\u001b[0m\u001b[0;34m\u001b[0m\u001b[0;34m\u001b[0m\u001b[0m\n\u001b[1;32m   1221\u001b[0m                 \u001b[0mself\u001b[0m\u001b[0;34m.\u001b[0m\u001b[0mlog\u001b[0m\u001b[0;34m.\u001b[0m\u001b[0mwarning\u001b[0m\u001b[0;34m(\u001b[0m\u001b[0;34m\"Invalid Message:\"\u001b[0m\u001b[0;34m,\u001b[0m \u001b[0mexc_info\u001b[0m\u001b[0;34m=\u001b[0m\u001b[0;32mTrue\u001b[0m\u001b[0;34m)\u001b[0m\u001b[0;34m\u001b[0m\u001b[0;34m\u001b[0m\u001b[0m\n",
            "\u001b[0;31mKeyboardInterrupt\u001b[0m: Interrupted by user"
          ]
        }
      ]
    },
    {
      "cell_type": "code",
      "source": [
        "list_number = [52, 273, 32, 72, 100]\n",
        "\n",
        "try:\n",
        "    number_input = int(input(\"정수 입력 >> \"))\n",
        "    print(\"{}번째 요소: {}\".format(number_input, list_number[number_input]))\n",
        "except Exception as exception:\n",
        "    print(\"type(exception):\", type(exception))\n",
        "    print(\"exception:\", exception)"
      ],
      "metadata": {
        "colab": {
          "base_uri": "https://localhost:8080/"
        },
        "id": "3hm0vp8PW8O6",
        "outputId": "248ea93b-a691-412e-af24-f89e427331ef"
      },
      "execution_count": null,
      "outputs": [
        {
          "output_type": "stream",
          "name": "stdout",
          "text": [
            "정수 입력 >> 10\n",
            "type(exception): <class 'IndexError'>\n",
            "exception: list index out of range\n"
          ]
        }
      ]
    },
    {
      "cell_type": "markdown",
      "source": [
        "프로그램이 강제 종료되는 것을 막이 위해 예외는 꼭 처리해야 합니다. 하지만 프로그램을 개발하는 동안에는 '아직 구현하지 않은 부분이니까 확실하게 문제가 생기게 만들자' 또는 '이 부분을 그냥 넘아가면 나중에 큰 문제가 발생하니까 여기에서 강제로 종료시키자'라는 경우도 있습니다."
      ],
      "metadata": {
        "id": "JxLlkmLDbDZh"
      }
    },
    {
      "cell_type": "code",
      "source": [
        "number = input(\"정수입력>>\")\n",
        "number = int(number)\n",
        "if number > 0:\n",
        "    raise NotImplementedError\n",
        "else:\n",
        "    raise NotImplementedError"
      ],
      "metadata": {
        "colab": {
          "base_uri": "https://localhost:8080/",
          "height": 243
        },
        "id": "71VLV-RnbXGA",
        "outputId": "f1bcd886-9855-494d-f8df-7207f52da59c"
      },
      "execution_count": null,
      "outputs": [
        {
          "name": "stdout",
          "output_type": "stream",
          "text": [
            "정수입력>>50\n"
          ]
        },
        {
          "output_type": "error",
          "ename": "NotImplementedError",
          "evalue": "",
          "traceback": [
            "\u001b[0;31m---------------------------------------------------------------------------\u001b[0m",
            "\u001b[0;31mNotImplementedError\u001b[0m                       Traceback (most recent call last)",
            "\u001b[0;32m/tmp/ipython-input-20-1103068748.py\u001b[0m in \u001b[0;36m<cell line: 0>\u001b[0;34m()\u001b[0m\n\u001b[1;32m      2\u001b[0m \u001b[0mnumber\u001b[0m \u001b[0;34m=\u001b[0m \u001b[0mint\u001b[0m\u001b[0;34m(\u001b[0m\u001b[0mnumber\u001b[0m\u001b[0;34m)\u001b[0m\u001b[0;34m\u001b[0m\u001b[0;34m\u001b[0m\u001b[0m\n\u001b[1;32m      3\u001b[0m \u001b[0;32mif\u001b[0m \u001b[0mnumber\u001b[0m \u001b[0;34m>\u001b[0m \u001b[0;36m0\u001b[0m\u001b[0;34m:\u001b[0m\u001b[0;34m\u001b[0m\u001b[0;34m\u001b[0m\u001b[0m\n\u001b[0;32m----> 4\u001b[0;31m     \u001b[0;32mraise\u001b[0m \u001b[0mNotImplementedError\u001b[0m\u001b[0;34m\u001b[0m\u001b[0;34m\u001b[0m\u001b[0m\n\u001b[0m\u001b[1;32m      5\u001b[0m \u001b[0;32melse\u001b[0m\u001b[0;34m:\u001b[0m\u001b[0;34m\u001b[0m\u001b[0;34m\u001b[0m\u001b[0m\n\u001b[1;32m      6\u001b[0m     \u001b[0;32mraise\u001b[0m \u001b[0mNotImplementedError\u001b[0m\u001b[0;34m\u001b[0m\u001b[0;34m\u001b[0m\u001b[0m\n",
            "\u001b[0;31mNotImplementedError\u001b[0m: "
          ]
        }
      ]
    },
    {
      "cell_type": "markdown",
      "source": [
        "예외 객체는 예외와 관련된 정보를 담고 있는 객체입니다.\n",
        "raise 구문은 예외를 강제로 발생시킬 때 사용하는 구문입니다.\n",
        "GitHub 검색은 많은 사람이 함께 개발하는 소셜 코딩 사이트 GitHub를 이용하는 것으로, 유능한 개발자들의 정제된 코드를 살펴볼 수 있습니다.\n"
      ],
      "metadata": {
        "id": "W7-HkHSWdx4J"
      }
    },
    {
      "cell_type": "code",
      "source": [
        "num: int = 1\n",
        "def add(a: int, b: int) -> int:\n",
        "    return a+b\n",
        "add(500, 600)\n",
        "result = add(500, 56.345)\n",
        "print(result)\n"
      ],
      "metadata": {
        "colab": {
          "base_uri": "https://localhost:8080/"
        },
        "id": "g2Q1ILoWPE4T",
        "outputId": "94502da6-a331-4b53-da77-59386d5e7e67"
      },
      "execution_count": 3,
      "outputs": [
        {
          "output_type": "stream",
          "name": "stdout",
          "text": [
            "556.345\n"
          ]
        }
      ]
    },
    {
      "cell_type": "markdown",
      "source": [
        "add 함수의 b 매개변수는 int형으로 annotation되었지만 float형 데이터를 사용해도 이 코드는 문제 없이 돌아간다. 파이썬의 어노테이션은 체크가 아닌 힌트이기 때문이다."
      ],
      "metadata": {
        "id": "hpvMKXwiP6we"
      }
    },
    {
      "cell_type": "code",
      "source": [],
      "metadata": {
        "id": "fORTmX4sQMHO"
      },
      "execution_count": null,
      "outputs": []
    },
    {
      "cell_type": "markdown",
      "source": [
        "문자클래스(characterclass)인[]이다.\n",
        "문자클래스로 만들어진정규식은‘[’와‘]’사이의개별 문자들과 매치’라는의미를갖는다.\n",
        "[abc]는 a나 b 도는 c 하나라도 포함된 문자열은 모두 이 문자클래스가 표현하는 집합의 구성원이 된다.\n",
        "[]안의 두 문자를 하이픈(-)으로 연경하면 두 문자 사이의 범위를 의미한다. [a-d]는 [abcd]와 동일하고 [0-4]는 [01234]와 동일하다. 그러므로 [0-9]는 모든 숫자이고, [a-zA-Z] 모든 영문 알파벳이다.\n",
        "\n",
        "문자클래스 안에 ^를 사용하면 반대(not)의 의미를 가진다. [^0-9]는 숫자가 아닌 문자만 매치된다.\n",
        "\n",
        "\\d는 숫자와 매치된다. [0-9]와 동일한 표현식이다.\n",
        "\\D는 숫자가 아닌 것과 매치된다 [^0-9]와 동일한 표현식이다.\n",
        "\\s는 화이트스페이스 문자와 매치된다. 화이트스페이스 문자는 \" \"(space), \\t(탭공백), \\n(줄바꿈), \\r(캐리지리턴), \\f(폼피드), \\v(수직탭)를 모두 포괄한다. 즉 \\s 는 [  \\t\\n\\r\\f\\v]와 동일한 표현식이다.\n",
        "\\S는 화이트스페이스 문자가 아닌 것과 매치된다. [^ \\t\\n\\r\\f\\v]와 동일한 정규 표현식이다.\n",
        "\\w는 문자+숫자와 매치된다. [a-zA-Z0-9]와 동일한 표현식이다.\n",
        "\\W는 문자 + 숫자가 아닌것과 매치된다. 즉 [^a-zA-Z0-9]와 동일한 표현식이다.\n",
        "\n",
        "정규표현식의 .(dot) 메타문자는 줄바꿈 문자인 \\n을 제외한 모든 문자와 매치된다는 것을 의미한다. 즉 정규식 a.b는 \"a + 모든_문자 + b\"이다. 반면에 .를 []로 감싼 [.]은 .(dot) 문자 그 자체를 의미한다.\n",
        "\n",
        "*이 이 메타문자의 앞의 문자를 무한대까지 반복될 수 있다는 의미이다. 즉 [ca*t]는 ct, cat, caat, caaat,caaaat....과 매치된다. 반면에 메타문자 + 는 1번이상 반복을 의미한다. 즉 [ca+t) 는 cat, caat, caaat. caaaat...를 의미하며 ct는 의미하지 않는다.  이런 반복횟수를 조절하는 것이 {} 메타문자이다. {m, n}이라고 쓰면 m회 이상 n번까지 반복할 수 있다는 의미가 된다. {1,}는 + 메타문자와 동일한 의미를 가지며, {0,}는 *메타문자와 동일한 의미를 갖는다. {}안에 숫자가 하나만 들어있으면 해당 횟수만큼 반복한 것만 의미한다. 즉 ca{3}t 는 caaat만을 의미한다.\n",
        "\n",
        "?메타문자는 {0, 1}이다. 즉 해당 문자가 없거나 한개만 있는 경우를 표현한다."
      ],
      "metadata": {
        "id": "MoZHifKDYw9U"
      }
    },
    {
      "cell_type": "markdown",
      "source": [],
      "metadata": {
        "id": "aQfV471FdGrM"
      }
    },
    {
      "cell_type": "code",
      "source": [
        "import re\n",
        "p = re.compile('ab*')\n"
      ],
      "metadata": {
        "id": "fT8sNk86aFbL"
      },
      "execution_count": 4,
      "outputs": []
    },
    {
      "cell_type": "markdown",
      "source": [
        "이제 컴파일된 패턴 객체를 이용하여 문자열 검색을 수행해 보자. 컴파일된 객체는 다음과 같은 4가지 메서드를 제공한다.\n",
        "match() 문자열의 처음부터 정규식과 매치되는지 조사한다.\n",
        "search() 문자열 전체를 검색하여 정규식과 매치되는지 조사한다.\n",
        "findall() 정규식과 매치되는 모든 문자열(substring)을 리스트로 리턴한다.\n",
        "finditer() 정규식과 매치되는 모든 문자열(substring)을 반복 가능한 객체로 리턴한다."
      ],
      "metadata": {
        "id": "2sZCwtk7gIda"
      }
    },
    {
      "cell_type": "code",
      "source": [
        "import re\n",
        "p = re.compile('[a-z]+')\n",
        "m = p.match(\" pythonize JAVA C JSP etc.\")\n",
        "print(m)"
      ],
      "metadata": {
        "colab": {
          "base_uri": "https://localhost:8080/"
        },
        "id": "F4NlSz7wguJ7",
        "outputId": "e00dbc75-6aba-454b-d5c7-fd0fa530075f"
      },
      "execution_count": 9,
      "outputs": [
        {
          "output_type": "stream",
          "name": "stdout",
          "text": [
            "None\n"
          ]
        }
      ]
    },
    {
      "cell_type": "code",
      "source": [
        "m = p.match(\"3 python\")\n",
        "print(m)"
      ],
      "metadata": {
        "colab": {
          "base_uri": "https://localhost:8080/"
        },
        "id": "JyUTADUPhVaf",
        "outputId": "70f5c5fe-4d5b-4740-b544-e8b399af5280"
      },
      "execution_count": 7,
      "outputs": [
        {
          "output_type": "stream",
          "name": "stdout",
          "text": [
            "None\n"
          ]
        }
      ]
    },
    {
      "cell_type": "markdown",
      "source": [
        "match의 결과로 match 객체 또는 None을 리턴하기 때문에 파이썬 정규식 프로그램은 보통 다음과 같은 흐름으로 작성한다.\n",
        "\n",
        "p = re.compile(정규표현식)\n",
        "m = p.match('조사할 문자열;)\n",
        "if m:\n",
        "    print('Match found: ', m.group())\n",
        "else:\n",
        "    print('No match')\n",
        "\n",
        "즉, match의 결과값이 있을 때만 그 다음 작업을 수행하겠다는 것이다."
      ],
      "metadata": {
        "id": "TGDOai1srH37"
      }
    },
    {
      "cell_type": "markdown",
      "source": [],
      "metadata": {
        "id": "Yf1upNLNr6l7"
      }
    },
    {
      "cell_type": "code",
      "source": [
        "import re\n",
        "p = re.compile('[a-z]+')\n",
        "m = p.search(\"C++ HTML pythonize JAVA C JSP etc.\")\n",
        "print(m)\n"
      ],
      "metadata": {
        "colab": {
          "base_uri": "https://localhost:8080/"
        },
        "id": "U5EkyfmorBe6",
        "outputId": "6af2f1d5-53c8-48ff-f827-a50bd0e46d33"
      },
      "execution_count": 12,
      "outputs": [
        {
          "output_type": "stream",
          "name": "stdout",
          "text": [
            "<re.Match object; span=(9, 18), match='pythonize'>\n"
          ]
        }
      ]
    },
    {
      "cell_type": "markdown",
      "source": [
        "match 메소드와 search 메서드는 문자열의 처음부터 검색할지의 여부에 따라 다르게 사용해야 한다."
      ],
      "metadata": {
        "id": "-_Crdw7bt5-G"
      }
    },
    {
      "cell_type": "code",
      "source": [
        "import re\n",
        "result = (\"C++ HTML pythonize JAVA C JSP etc.\")\n",
        "\n",
        "findall = p.findall(result)\n",
        "print(result)"
      ],
      "metadata": {
        "colab": {
          "base_uri": "https://localhost:8080/"
        },
        "id": "d55GAhjxuGDo",
        "outputId": "504f4a3f-68ad-4261-eb91-09e18eb61f99"
      },
      "execution_count": 16,
      "outputs": [
        {
          "output_type": "stream",
          "name": "stdout",
          "text": [
            "C++ HTML pythonize JAVA C JSP etc.\n"
          ]
        }
      ]
    },
    {
      "cell_type": "code",
      "source": [
        "result = p.finditer(\"Life is too short, Art is long\")\n",
        "print(result)"
      ],
      "metadata": {
        "colab": {
          "base_uri": "https://localhost:8080/"
        },
        "id": "8EEJT5_WvQnR",
        "outputId": "c5e9fcad-719e-497d-d0a4-d66973afaa69"
      },
      "execution_count": 22,
      "outputs": [
        {
          "output_type": "stream",
          "name": "stdout",
          "text": [
            "<callable_iterator object at 0x7d53eaca08b0>\n"
          ]
        }
      ]
    },
    {
      "cell_type": "code",
      "source": [
        "for r in result: print(r)"
      ],
      "metadata": {
        "colab": {
          "base_uri": "https://localhost:8080/"
        },
        "id": "IJkB_eU3vgf5",
        "outputId": "b5f94f65-1a49-4588-bd37-2662640b1c24"
      },
      "execution_count": 23,
      "outputs": [
        {
          "output_type": "stream",
          "name": "stdout",
          "text": [
            "<re.Match object; span=(1, 4), match='ife'>\n",
            "<re.Match object; span=(5, 7), match='is'>\n",
            "<re.Match object; span=(8, 11), match='too'>\n",
            "<re.Match object; span=(12, 17), match='short'>\n",
            "<re.Match object; span=(20, 22), match='rt'>\n",
            "<re.Match object; span=(23, 25), match='is'>\n",
            "<re.Match object; span=(26, 30), match='long'>\n"
          ]
        }
      ]
    },
    {
      "cell_type": "markdown",
      "source": [
        "finditer는 findall과 동일하지만, 그 결과로 반복 가능한 객체(iterator object)를 리턴한다. 그리고 반복 가능한 객체가 포함하는 각각의 요소는 match 객체이다."
      ],
      "metadata": {
        "id": "FK-GzbArv_DV"
      }
    },
    {
      "cell_type": "markdown",
      "source": [
        "match 객체란 앞에서 살펴본 p.match, p.search 또는 p.finditer 매서드에 의해 리턴된 매치 객체(Match object)를 의미한다.\n",
        "match 객체의 메서드를 사용하면 어떤 문자열이 매치되었는가?, 매치된 문자열의 인덱스는 어디에서부터 어디까지인가? 를 알 수 있다. match 객체를 다루는 메서드에는 group, start, end, span이 있다."
      ],
      "metadata": {
        "id": "Mh6bGkZJwTsz"
      }
    },
    {
      "cell_type": "code",
      "source": [
        "import re\n",
        "m = p.search(\" python C++ HTML pythonize JAVA C JSP etc.\")\n",
        "m.group()"
      ],
      "metadata": {
        "colab": {
          "base_uri": "https://localhost:8080/",
          "height": 36
        },
        "id": "3KcG_m2LxMrR",
        "outputId": "bb9a7899-e32e-4259-b0c0-ae6c7a29898c"
      },
      "execution_count": 50,
      "outputs": [
        {
          "output_type": "execute_result",
          "data": {
            "text/plain": [
              "'python'"
            ],
            "application/vnd.google.colaboratory.intrinsic+json": {
              "type": "string"
            }
          },
          "metadata": {},
          "execution_count": 50
        }
      ]
    },
    {
      "cell_type": "code",
      "source": [
        "m.start()\n"
      ],
      "metadata": {
        "colab": {
          "base_uri": "https://localhost:8080/"
        },
        "id": "Uj_QyIEcx7FW",
        "outputId": "467091ee-432e-4b31-adb5-fe6436564951"
      },
      "execution_count": 51,
      "outputs": [
        {
          "output_type": "execute_result",
          "data": {
            "text/plain": [
              "1"
            ]
          },
          "metadata": {},
          "execution_count": 51
        }
      ]
    },
    {
      "cell_type": "code",
      "source": [
        "m.end()\n"
      ],
      "metadata": {
        "colab": {
          "base_uri": "https://localhost:8080/"
        },
        "id": "NBaN6aPCyFqR",
        "outputId": "62c24234-add0-4642-df98-f80888b5d1a9"
      },
      "execution_count": 52,
      "outputs": [
        {
          "output_type": "execute_result",
          "data": {
            "text/plain": [
              "7"
            ]
          },
          "metadata": {},
          "execution_count": 52
        }
      ]
    },
    {
      "cell_type": "code",
      "source": [
        "m.span()"
      ],
      "metadata": {
        "colab": {
          "base_uri": "https://localhost:8080/"
        },
        "id": "PgPlPpzayIIR",
        "outputId": "6d00297a-62f1-4952-8fa9-2c83017d9084"
      },
      "execution_count": 53,
      "outputs": [
        {
          "output_type": "execute_result",
          "data": {
            "text/plain": [
              "(1, 7)"
            ]
          },
          "metadata": {},
          "execution_count": 53
        }
      ]
    },
    {
      "cell_type": "markdown",
      "source": [
        "지금까지 우리는 re.compile을 사용하여 컴파일된 패턴 객체로 그 이후의 작업을 수행했다. re모듈은 이를 더 축약한 형태로 사용할 수 있는 방법을 제공한다. 즉,\n",
        "p = re.compile('[a-z]+')\n",
        "m = p.match(\"Python\")\n",
        "\n",
        "이 코드가 축약된 형태는 다음과 같다.\n",
        "\n",
        "m = re..match('[a-z]+', \"Python\")\n",
        "\n",
        "이렇게 사용하면 컴파일과 match 메서드를 한꺼번에 수행할 수 있다. 보통 한 번 만든 객체를 여러번 사용해야 활 때는 이 방법보다 re.compile을 사용하는 것이 편리하다."
      ],
      "metadata": {
        "id": "A6iYkft5y0Rz"
      }
    },
    {
      "cell_type": "markdown",
      "source": [
        "정규식을 컴파일할 때 다음 옵션을 사용할 수 있다.\n",
        "\n",
        "DOTALL(또는 S)       .(dot) 이 줄바꿈 문자를 포함해 모든 문자와 매치될 수 있게 한다.\n",
        "\n",
        "IGNORECASE(또는 I)   대소문자에 관계없이 매치될 수 있게 한다.\n",
        "\n",
        "MULTILINE(또는 M)    여러 줄과 매치될 수 있게 한다. ^, $ 메타 문자 사용과 관계 있는 옵션이다.\n",
        "\n",
        "VERBOSE(또는 X)      vervose 모드를 사용할 수 있게 한다. 정규식을 보기 편하게 만들 수 있고 주석 등을 사용할 수 있게 된다.\n",
        "\n",
        "옵션을 사용할 때는 re.DOTALL 처럼 전체 옵션 이름을 써도 되고, re.S 처럼 약어를 써도 된다."
      ],
      "metadata": {
        "id": "rqomqSy_zvLJ"
      }
    },
    {
      "cell_type": "markdown",
      "source": [
        ". 메타 문자는 줄바꿈 문자(\\n)를 제외한 모든 문자와 매치되는 규칙이 있다. 만약 \\n문자도 포함하여 매치하고 싶다면, re.DOTALL 또는 re.S 옵션을 사용해 정규식을 컴파일하면 된다."
      ],
      "metadata": {
        "id": "2ZbPf-LU1IDe"
      }
    },
    {
      "cell_type": "code",
      "source": [
        "import re\n",
        "p = re.compile('a.b')\n",
        "m = p.match('a\\nb')\n",
        "print(m)"
      ],
      "metadata": {
        "colab": {
          "base_uri": "https://localhost:8080/"
        },
        "id": "-JdMK6-x2NDN",
        "outputId": "1516315c-49c4-460f-ce5d-f20f07960df4"
      },
      "execution_count": 54,
      "outputs": [
        {
          "output_type": "stream",
          "name": "stdout",
          "text": [
            "None\n"
          ]
        }
      ]
    },
    {
      "cell_type": "code",
      "source": [
        "import re\n",
        "p = re.compile('a.b', re.DOTALL)\n",
        "m = p.match('a\\nb')\n",
        "print(m)"
      ],
      "metadata": {
        "colab": {
          "base_uri": "https://localhost:8080/"
        },
        "id": "lcZrjaPG2gLn",
        "outputId": "20ca7c92-f486-4372-b20e-c641b83af6a5"
      },
      "execution_count": 55,
      "outputs": [
        {
          "output_type": "stream",
          "name": "stdout",
          "text": [
            "<re.Match object; span=(0, 3), match='a\\nb'>\n"
          ]
        }
      ]
    },
    {
      "cell_type": "markdown",
      "source": [
        "보통 re.DOTALL 옵션은 여러 줄로 이루어진 문자열에서 줄바꿈 문자에 사관없이 검색할 때 많이 사용한다."
      ],
      "metadata": {
        "id": "__74oH671pnG"
      }
    },
    {
      "cell_type": "markdown",
      "source": [
        "re.IGNORECASE 또는 re.I 옵션은 대소문자 구별없이 매치를 수행할 때 사용하는 옵션이다."
      ],
      "metadata": {
        "id": "-5HlZ2_K237e"
      }
    },
    {
      "cell_type": "code",
      "source": [
        "p = re.compile('[a-z]+', re.I)\n",
        "p.match('python')"
      ],
      "metadata": {
        "colab": {
          "base_uri": "https://localhost:8080/"
        },
        "id": "0iEDUD5u3DF7",
        "outputId": "2a5ae751-444c-4337-966a-75514220ffe2"
      },
      "execution_count": 56,
      "outputs": [
        {
          "output_type": "execute_result",
          "data": {
            "text/plain": [
              "<re.Match object; span=(0, 6), match='python'>"
            ]
          },
          "metadata": {},
          "execution_count": 56
        }
      ]
    },
    {
      "cell_type": "code",
      "source": [
        "p = re.compile('[a-z]+', re.I)\n",
        "p.match('Python')"
      ],
      "metadata": {
        "colab": {
          "base_uri": "https://localhost:8080/"
        },
        "id": "SYPMMVEL3agY",
        "outputId": "7bde6194-04eb-406f-d7a7-3f88b0bcfa34"
      },
      "execution_count": 57,
      "outputs": [
        {
          "output_type": "execute_result",
          "data": {
            "text/plain": [
              "<re.Match object; span=(0, 6), match='Python'>"
            ]
          },
          "metadata": {},
          "execution_count": 57
        }
      ]
    },
    {
      "cell_type": "code",
      "source": [
        "p = re.compile('[a-z]+', re.I)\n",
        "p.match('PYTHON')"
      ],
      "metadata": {
        "colab": {
          "base_uri": "https://localhost:8080/"
        },
        "id": "acxeHHdI3ihO",
        "outputId": "b8d78077-f94b-489d-f9d3-aa3f5aedc0af"
      },
      "execution_count": 58,
      "outputs": [
        {
          "output_type": "execute_result",
          "data": {
            "text/plain": [
              "<re.Match object; span=(0, 6), match='PYTHON'>"
            ]
          },
          "metadata": {},
          "execution_count": 58
        }
      ]
    },
    {
      "cell_type": "markdown",
      "source": [
        "[a-z]+ 정규식은 소문자만을 의미하지만, re.I 옵션은 대소문자 구별없이 매치된다."
      ],
      "metadata": {
        "id": "e5ZpQ9oN3og9"
      }
    },
    {
      "cell_type": "code",
      "source": [
        "pxkanswk"
      ],
      "metadata": {
        "id": "Pra8Yrw2wd72"
      },
      "execution_count": null,
      "outputs": []
    },
    {
      "cell_type": "markdown",
      "source": [
        "re.MULTILINE 또는 re.M옵션은 메타문자 ^, $와 연관된 옵션이다. ^는 문자열의 처음, $는 문자열의 마지막을 의미한다.  이 스크립트를 실행하면 ^ $ 메타문자를 문자열의 각 줄마다 적용해주는 것이다."
      ],
      "metadata": {
        "id": "av5m5XsRtVvb"
      }
    },
    {
      "cell_type": "code",
      "source": [
        "import re\n",
        "p = re.compile(\"^python\\s\\w+\", re.MULTILINE)\n",
        "\n",
        "data = \"\"\"python one\n",
        "LIfe is too short\n",
        "python two\n",
        "You need python\n",
        "python three\"\"\"\n",
        "\n",
        "print(p.findall(data))"
      ],
      "metadata": {
        "colab": {
          "base_uri": "https://localhost:8080/"
        },
        "id": "QajXNON6tuLu",
        "outputId": "556bedda-8c4b-47e2-98dd-c3438e4dc54a"
      },
      "execution_count": 9,
      "outputs": [
        {
          "output_type": "stream",
          "name": "stdout",
          "text": [
            "['python one', 'python two', 'python three']\n"
          ]
        }
      ]
    },
    {
      "cell_type": "code",
      "source": [
        "charref = re.compile(r'&[#](0[0-7]+[0-9]+[x[0-9a-fA-F]+);')"
      ],
      "metadata": {
        "id": "9ck7nbpEw-oV"
      },
      "execution_count": 10,
      "outputs": []
    },
    {
      "cell_type": "code",
      "source": [
        "charref = re.compile(r\"\"\"\n",
        "'&[#]                   # Start of a numeric entity reference\n",
        "(0[0-7]+                # Octal form\n",
        "[0-9]+                  # Decimal form\n",
        "x[0-9a-fA-F]+           # Hexadecimal form\n",
        ")\n",
        ";                       # Trailing semicolon\n",
        "\"\"\", re.VERBOSE)"
      ],
      "metadata": {
        "id": "WdG8DhtpxaEv"
      },
      "execution_count": null,
      "outputs": []
    },
    {
      "cell_type": "markdown",
      "source": [
        "' | ' 메타문자는 or과 동일한 의미로 사용된다."
      ],
      "metadata": {
        "id": "em5f3ngPzFb4"
      }
    },
    {
      "cell_type": "code",
      "source": [
        "p = re.compile('Crow|Servo')\n",
        "m = p.match('CrowHello')\n",
        "print(m)"
      ],
      "metadata": {
        "colab": {
          "base_uri": "https://localhost:8080/"
        },
        "id": "uW1OQLaNzOib",
        "outputId": "6bc11f61-f5ec-4d87-8e59-86c95836a999"
      },
      "execution_count": 12,
      "outputs": [
        {
          "output_type": "stream",
          "name": "stdout",
          "text": [
            "<re.Match object; span=(0, 4), match='Crow'>\n"
          ]
        }
      ]
    },
    {
      "cell_type": "markdown",
      "source": [
        "' ^ ' 메타문자는 문자열의 맨 처음과 일치한다는 것을 의미한다."
      ],
      "metadata": {
        "id": "-rVZLCOCznEN"
      }
    },
    {
      "cell_type": "code",
      "source": [
        "print(re.search('^Life', 'Life is too shore'))\n"
      ],
      "metadata": {
        "colab": {
          "base_uri": "https://localhost:8080/"
        },
        "id": "95Yh_PSOztjx",
        "outputId": "8e51ee3a-a0c3-4149-ff3d-9d710a0a65fc"
      },
      "execution_count": 13,
      "outputs": [
        {
          "output_type": "stream",
          "name": "stdout",
          "text": [
            "<re.Match object; span=(0, 4), match='Life'>\n"
          ]
        }
      ]
    },
    {
      "cell_type": "code",
      "source": [
        "print(re.search('^Life', 'My Life'))"
      ],
      "metadata": {
        "colab": {
          "base_uri": "https://localhost:8080/"
        },
        "id": "xQDvaUXv0Arp",
        "outputId": "f0d90a5e-822d-462d-cbf0-a50b2dc5b41f"
      },
      "execution_count": 14,
      "outputs": [
        {
          "output_type": "stream",
          "name": "stdout",
          "text": [
            "None\n"
          ]
        }
      ]
    },
    {
      "cell_type": "markdown",
      "source": [
        "\\$ 메타문자는 \\^ 메타 문자와 반대의 경우이다.즉, \\$는 문자열의 끝과 매치한다는 것을 의미한다."
      ],
      "metadata": {
        "id": "1-wFi6Z30Mdn"
      }
    },
    {
      "cell_type": "code",
      "source": [
        "print(re.search('short$', 'Life is too short'))\n",
        "print(re.search('short$', 'Life is too short, you need python'))"
      ],
      "metadata": {
        "colab": {
          "base_uri": "https://localhost:8080/"
        },
        "id": "uoxRTFYQ1CKn",
        "outputId": "0986108b-71fc-45bc-f138-d2aff36b415a"
      },
      "execution_count": 16,
      "outputs": [
        {
          "output_type": "stream",
          "name": "stdout",
          "text": [
            "<re.Match object; span=(12, 17), match='short'>\n",
            "None\n"
          ]
        }
      ]
    },
    {
      "cell_type": "markdown",
      "source": [
        "\\A 는 문자열의 처음과 매치된다는 것을 의미한다. \\^메타문자와 돋일한 의미이지만, re.MULTILINE옵션을 사용할 경우 \\^는 각 줄의 문자열의 처음과 매치되지만, \\A는 줄과 상관없이 전체 문자열의 처음하고만 매치된다."
      ],
      "metadata": {
        "id": "GCA8D6PU1xLY"
      }
    },
    {
      "cell_type": "markdown",
      "source": [
        "\\Z는 문자열의 끝과 매치된다는 것을 의미한다. re.MULTILINE 옵션을 사용할 경우, \\$ 메타문자와는 달리 전체 문자열의 끝과 매치된다."
      ],
      "metadata": {
        "id": "5DqCbSbP2X-Z"
      }
    },
    {
      "cell_type": "markdown",
      "source": [
        "\\b는 단어구분자(word boundary)이다. 보통 단어는 화이트스페이스에 의해 구분된다."
      ],
      "metadata": {
        "id": "SDmcT3EA2mcX"
      }
    },
    {
      "cell_type": "code",
      "source": [
        "p = re.compile(r'\\bclass\\b')\n",
        "print(p.search('no     class     at all'))"
      ],
      "metadata": {
        "colab": {
          "base_uri": "https://localhost:8080/"
        },
        "id": "whab8AMl237N",
        "outputId": "9497950e-66db-493f-fcfe-c666a36b428b"
      },
      "execution_count": 23,
      "outputs": [
        {
          "output_type": "stream",
          "name": "stdout",
          "text": [
            "<re.Match object; span=(7, 12), match='class'>\n"
          ]
        }
      ]
    },
    {
      "cell_type": "code",
      "source": [
        "print(p.search('the declassified algorithm'))"
      ],
      "metadata": {
        "colab": {
          "base_uri": "https://localhost:8080/"
        },
        "id": "azyligXZ3iq3",
        "outputId": "832f03e8-bd84-4b48-985c-eb68a6ac8c01"
      },
      "execution_count": 24,
      "outputs": [
        {
          "output_type": "stream",
          "name": "stdout",
          "text": [
            "None\n"
          ]
        }
      ]
    },
    {
      "cell_type": "markdown",
      "source": [
        "\\b 메타문자를사용할때주의해야할점이있다. \\b는파이썬리터럴규칙에따르면백스페이스\n",
        "(backspace) 를의미하므로백스페이스가아닌단어구분자라는것을알려주기위해r'\\bclass \\b'\n",
        "처럼rawstring이라는것을알려주는r을반드시붙여야한다."
      ],
      "metadata": {
        "id": "tsNolmMk300p"
      }
    },
    {
      "cell_type": "markdown",
      "source": [
        "\\B 메타문자는 \\b 메타 문자와 반대이 경우이다. 즉, 화이트스페이스로 구본된 단어가 아닌 경우에만 매치된다."
      ],
      "metadata": {
        "id": "MmHAUGQf36zm"
      }
    },
    {
      "cell_type": "code",
      "source": [
        "p = re.compile(r'\\Bclass\\B')\n",
        "print(p.search('no class at all'))"
      ],
      "metadata": {
        "colab": {
          "base_uri": "https://localhost:8080/"
        },
        "id": "tgBwAv7b4EwC",
        "outputId": "b09d4860-5473-4529-ada4-8c24ac0de47a"
      },
      "execution_count": 25,
      "outputs": [
        {
          "output_type": "stream",
          "name": "stdout",
          "text": [
            "None\n"
          ]
        }
      ]
    },
    {
      "cell_type": "code",
      "source": [
        "print(p.search('the declassified algorithm'))"
      ],
      "metadata": {
        "colab": {
          "base_uri": "https://localhost:8080/"
        },
        "id": "baFGQr9p4R-W",
        "outputId": "978d9ef1-4ecc-48c4-d719-35e175e8fb59"
      },
      "execution_count": 26,
      "outputs": [
        {
          "output_type": "stream",
          "name": "stdout",
          "text": [
            "<re.Match object; span=(6, 11), match='class'>\n"
          ]
        }
      ]
    },
    {
      "cell_type": "code",
      "source": [
        "print(p.search('one subclass is goood one'))"
      ],
      "metadata": {
        "colab": {
          "base_uri": "https://localhost:8080/"
        },
        "id": "P11nuo0M4Zt-",
        "outputId": "c774a45a-405b-44ea-ccba-59b03559ec1c"
      },
      "execution_count": 27,
      "outputs": [
        {
          "output_type": "stream",
          "name": "stdout",
          "text": [
            "None\n"
          ]
        }
      ]
    },
    {
      "cell_type": "markdown",
      "source": [
        "class 단어의 앞뒤에 화이트 스페이스가 하나라도 있는 경우에는 매치가 되지 않는다는 것을 확인할 수 있다."
      ],
      "metadata": {
        "id": "SLi-7FV14k-F"
      }
    },
    {
      "cell_type": "markdown",
      "source": [
        "그룹을 만드어주는 문자열이 ()이다."
      ],
      "metadata": {
        "id": "CLvJOi1b40ia"
      }
    },
    {
      "cell_type": "code",
      "source": [
        "p = re.compile('(ABC)+')\n",
        "m = p.search('ABCABCABC OK? ABC ABCSABC')\n",
        "print(m)"
      ],
      "metadata": {
        "colab": {
          "base_uri": "https://localhost:8080/"
        },
        "id": "N_trCMJY45OA",
        "outputId": "e4b8a72e-12b2-4922-9f66-7e94483b74f6"
      },
      "execution_count": 36,
      "outputs": [
        {
          "output_type": "stream",
          "name": "stdout",
          "text": [
            "<re.Match object; span=(0, 9), match='ABCABCABC'>\n"
          ]
        }
      ]
    },
    {
      "cell_type": "code",
      "source": [
        "print(m.group())"
      ],
      "metadata": {
        "colab": {
          "base_uri": "https://localhost:8080/"
        },
        "id": "OzqKGhYi5ffQ",
        "outputId": "25b3b2e3-4c0d-4f42-8af4-53c038327d5b"
      },
      "execution_count": 37,
      "outputs": [
        {
          "output_type": "stream",
          "name": "stdout",
          "text": [
            "ABCABCABC\n"
          ]
        }
      ]
    },
    {
      "cell_type": "code",
      "source": [
        "p = re.compile(r\"(\\w+)\\s+((\\d+)[-]\\d+[-]\\d+)\")\n",
        "m = p.search(\"park 010-1234-1234\")"
      ],
      "metadata": {
        "id": "27cGX7cm5wRx"
      },
      "execution_count": 53,
      "outputs": []
    },
    {
      "cell_type": "code",
      "source": [
        "print(m.group(3))"
      ],
      "metadata": {
        "colab": {
          "base_uri": "https://localhost:8080/"
        },
        "id": "URF9KWbm6MmA",
        "outputId": "f7d839c2-c700-46c9-ded2-a7d87c6acb42"
      },
      "execution_count": 54,
      "outputs": [
        {
          "output_type": "stream",
          "name": "stdout",
          "text": [
            "010\n"
          ]
        }
      ]
    },
    {
      "cell_type": "code",
      "source": [
        "p = re.compile(r'(\\b\\w+)\\s+\\1')\n",
        "p.search('Paris in the the spring').group()"
      ],
      "metadata": {
        "colab": {
          "base_uri": "https://localhost:8080/",
          "height": 36
        },
        "id": "fBxiWxLd7TQe",
        "outputId": "e9d2b83c-61be-462f-f21c-d10f7f7f4e11"
      },
      "execution_count": 56,
      "outputs": [
        {
          "output_type": "execute_result",
          "data": {
            "text/plain": [
              "'the the'"
            ],
            "application/vnd.google.colaboratory.intrinsic+json": {
              "type": "string"
            }
          },
          "metadata": {},
          "execution_count": 56
        }
      ]
    },
    {
      "cell_type": "markdown",
      "source": [
        "대단히복잡해진것처럼보이지만,(\\w+)라는그룹에name이라는이름을붙인것에불과하다.여기에\n",
        "서사용한(?...)표현식은정규표현식의확장구문이다.이확장구문을사용하면가독성이상당히떨\n",
        "어지는대신강력함을가지게된다."
      ],
      "metadata": {
        "id": "Df-xifPE8VSQ"
      }
    },
    {
      "cell_type": "code",
      "source": [
        "p = re.compile(r\"(?P<name>\\w+)\\s+((\\d+)[-]\\d+[-]\\d+)\")\n",
        "m = p.search(\"park 010-1234-1234\")\n",
        "print(m.group(\"name\"))"
      ],
      "metadata": {
        "colab": {
          "base_uri": "https://localhost:8080/"
        },
        "id": "oIdKnDhv8Yna",
        "outputId": "39af9048-ba98-46f1-8e3b-8da086e1fe62"
      },
      "execution_count": 62,
      "outputs": [
        {
          "output_type": "stream",
          "name": "stdout",
          "text": [
            "park\n"
          ]
        }
      ]
    },
    {
      "cell_type": "code",
      "source": [
        "p = re.compile(r\"(?P<name>\\w+)\\s+((?P<local>\\d+)[-]\\d+[-]\\d+)\")\n",
        "m = p.search(\"park 010-1234-1234\")\n",
        "print(m.group(\"name\"))\n",
        "print(m.group(\"local\"))"
      ],
      "metadata": {
        "colab": {
          "base_uri": "https://localhost:8080/"
        },
        "outputId": "9af2458a-2851-4251-e5a7-45e6505252a9",
        "id": "59-F-W9T9tlB"
      },
      "execution_count": 63,
      "outputs": [
        {
          "output_type": "stream",
          "name": "stdout",
          "text": [
            "park\n",
            "010\n"
          ]
        }
      ]
    },
    {
      "cell_type": "code",
      "source": [
        "p = re.compile(r'(?P<word>\\b\\w+)\\s+(?P=word)')\n",
        "p.search('Paris is in the the spring').group()"
      ],
      "metadata": {
        "colab": {
          "base_uri": "https://localhost:8080/",
          "height": 36
        },
        "id": "7MpO7svW-Dgq",
        "outputId": "8787e2c7-fbc5-4308-dba3-be554d445c49"
      },
      "execution_count": 64,
      "outputs": [
        {
          "output_type": "execute_result",
          "data": {
            "text/plain": [
              "'the the'"
            ],
            "application/vnd.google.colaboratory.intrinsic+json": {
              "type": "string"
            }
          },
          "metadata": {},
          "execution_count": 64
        }
      ]
    },
    {
      "cell_type": "markdown",
      "source": [
        "예에서볼수있듯이재참조할때는(?P=그룹이름)이라는확장구문을사용해야한다"
      ],
      "metadata": {
        "id": "oVLaA_Hu-ifl"
      }
    },
    {
      "cell_type": "code",
      "source": [
        "p = re.compile(\".+:\")\n",
        "m = p.search(\"http://google.com\")\n",
        "print(m)\n",
        "print(m.group())"
      ],
      "metadata": {
        "colab": {
          "base_uri": "https://localhost:8080/"
        },
        "id": "jgBtC6iM-xEy",
        "outputId": "6bc812ac-c45f-4269-f1ac-ab220fe63e5f"
      },
      "execution_count": 67,
      "outputs": [
        {
          "output_type": "stream",
          "name": "stdout",
          "text": [
            "<re.Match object; span=(0, 5), match='http:'>\n",
            "http:\n"
          ]
        }
      ]
    },
    {
      "cell_type": "code",
      "source": [
        "p = re.compile(\".+(?=:)\")\n",
        "m = p.search(\"http://google.com\")\n",
        "print(m.group())"
      ],
      "metadata": {
        "colab": {
          "base_uri": "https://localhost:8080/"
        },
        "id": "vk_GqQtR_YrY",
        "outputId": "7d44eba7-4c9a-42fe-9630-161f2e459967"
      },
      "execution_count": 68,
      "outputs": [
        {
          "output_type": "stream",
          "name": "stdout",
          "text": [
            "http\n"
          ]
        }
      ]
    },
    {
      "cell_type": "markdown",
      "source": [
        "정규식중:에해당하는부분에긍정형전방탐색기법을적용하여(?=:)으로변경하였다.이러면기존\n",
        "정규식과검색에서는동일한효과를발휘하지만,:에해당하는문자열이정규식엔진에의해소비되지\n",
        "않아(검색에는포함되지만,검색결과에는제외됨)검색결과에서는:이제거된후리턴해주는효과가\n",
        "있다."
      ],
      "metadata": {
        "id": "02cYDXQS_7RN"
      }
    },
    {
      "cell_type": "code",
      "source": [
        ".*[.](?!bat$|exe$).*$"
      ],
      "metadata": {
        "id": "DcN8ODzaAzb5"
      },
      "execution_count": null,
      "outputs": []
    },
    {
      "cell_type": "code",
      "source": [
        "p = re.compile('(blue|white|red)')\n",
        "p.sub('colour', 'blue socks and red shoes', count=2)"
      ],
      "metadata": {
        "colab": {
          "base_uri": "https://localhost:8080/",
          "height": 36
        },
        "id": "mclgJTycA9cv",
        "outputId": "d29f6a5b-53f3-4187-834b-c3b8b9296dff"
      },
      "execution_count": 84,
      "outputs": [
        {
          "output_type": "execute_result",
          "data": {
            "text/plain": [
              "'colour socks and colour shoes'"
            ],
            "application/vnd.google.colaboratory.intrinsic+json": {
              "type": "string"
            }
          },
          "metadata": {},
          "execution_count": 84
        }
      ]
    },
    {
      "cell_type": "code",
      "source": [],
      "metadata": {
        "id": "bA_VeWUxCRdw"
      },
      "execution_count": null,
      "outputs": []
    },
    {
      "cell_type": "code",
      "source": [
        "p = re.compile('(blue|white|red)')\n",
        "p.subn('colour', 'blue socks and red shoes', count=2)"
      ],
      "metadata": {
        "colab": {
          "base_uri": "https://localhost:8080/"
        },
        "outputId": "509c77e6-dc84-46a2-a203-81536f786f11",
        "id": "JejNx_OECS1D"
      },
      "execution_count": 85,
      "outputs": [
        {
          "output_type": "execute_result",
          "data": {
            "text/plain": [
              "('colour socks and colour shoes', 2)"
            ]
          },
          "metadata": {},
          "execution_count": 85
        }
      ]
    }
  ]
}