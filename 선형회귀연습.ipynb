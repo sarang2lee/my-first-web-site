{
  "nbformat": 4,
  "nbformat_minor": 0,
  "metadata": {
    "colab": {
      "provenance": [],
      "name": "선형회귀연습.ipynb",
      "include_colab_link": true
    },
    "kernelspec": {
      "name": "python3",
      "display_name": "Python 3"
    },
    "language_info": {
      "name": "python"
    }
  },
  "cells": [
    {
      "cell_type": "markdown",
      "metadata": {
        "id": "view-in-github",
        "colab_type": "text"
      },
      "source": [
        "<a href=\"https://colab.research.google.com/github/sarang2lee/my-first-web-site/blob/main/%EC%84%A0%ED%98%95%ED%9A%8C%EA%B7%80%EC%97%B0%EC%8A%B5.ipynb\" target=\"_parent\"><img src=\"https://colab.research.google.com/assets/colab-badge.svg\" alt=\"Open In Colab\"/></a>"
      ]
    },
    {
      "cell_type": "markdown",
      "source": [
        "[1] 필요한 패키지 불러오기"
      ],
      "metadata": {
        "id": "vGXHHTu13RB9"
      }
    },
    {
      "cell_type": "code",
      "source": [
        "import numpy as np"
      ],
      "metadata": {
        "id": "siNvESuH3VXC"
      },
      "execution_count": null,
      "outputs": []
    },
    {
      "cell_type": "markdown",
      "source": [
        "[2] 선형회귀 클래스 선언"
      ],
      "metadata": {
        "id": "1L1HMPFg3cC7"
      }
    },
    {
      "cell_type": "code",
      "source": [
        "class LinRegression():\n",
        "    def __init__(self, nDim, w=[]):\n",
        "        self.nDim = nDim\n",
        "        if len(w) > 0:\n",
        "            self.w = np.array(w)\n",
        "        else:\n",
        "            self.w = np.random.rand(nDim+1)\n",
        "\n",
        "    def fit(self, c, y, m, epochs, eta=0.01):\n",
        "        cost = 0\n",
        "        for i in range(m):\n",
        "            y_hat = np.dot(self.w, x[i])\n",
        "            err = y_hat - y[i]\n",
        "            cost += err * err\n",
        "        cost /= m\n",
        "        print(\"Epochs = {:4d}\".format(0), end='')\n",
        "        for i in range(self.nDim+1):\n",
        "            print(\" w[] = {:.4f}\".format(i, self.w[i]), end = '')\n",
        "        print(\"  cost = {:.6f}\".format(cost))\n",
        "\n",
        "        for j in range(1, epochs+1):\n",
        "            dw = np.zeros(self.nDim + 1)\n",
        "            for i in range(m):\n",
        "                y_hat = np.dot(self.w, x[i])\n",
        "                err = y_hat - y[i]\n",
        "                dw += err * x[i]\n",
        "\n",
        "            self.w -= eta * 2.0 * dw /m\n",
        "\n",
        "            if j % 20 == 0:\n",
        "                cost = 0\n",
        "                for i in range(m):\n",
        "                    y_hat = np.dot(self.w, x[i])\n",
        "                    err = y_hat - y[i]\n",
        "                    cost += err * err\n",
        "                cost /= m\n",
        "                print(\"Epochs = {:4d}\".format(0), end='')\n",
        "                for i in range(self.nDim + 1):\n",
        "                    print(\" w[] = {:.4f}\".format(i, self.w[i]), end='')\n",
        "                print(\"  cost = {:.6f}\".format(cost))\n",
        "\n",
        "    def predict(self, x):\n",
        "        return np.dot(self.w, x)\n"
      ],
      "metadata": {
        "id": "9o0k_WRt3oSi"
      },
      "execution_count": null,
      "outputs": []
    },
    {
      "cell_type": "markdown",
      "source": [
        "[3] 선형회귀를 위한 설정"
      ],
      "metadata": {
        "id": "0rHFyJyLU3Dw"
      }
    },
    {
      "cell_type": "code",
      "source": [
        "nSamples = 3\n",
        "nDim = 1\n",
        "nEpochs = 6000\n",
        "eta = 0.01"
      ],
      "metadata": {
        "id": "n8Uija2BU8E4"
      },
      "execution_count": null,
      "outputs": []
    },
    {
      "cell_type": "markdown",
      "source": [
        "[4] 독립변수와 종속변수 및 파라미터 초기화"
      ],
      "metadata": {
        "id": "4i1U5JkeVJ4L"
      }
    },
    {
      "cell_type": "code",
      "source": [
        "import numpy as np\n",
        "x = np.array([[1, 1], [1, 2], [1, 3]])\n",
        "y = np.array([2, 3, 4])\n",
        "w = np.array([0.3, 0.5])"
      ],
      "metadata": {
        "id": "nYQzIaVwVN1S"
      },
      "execution_count": null,
      "outputs": []
    },
    {
      "cell_type": "markdown",
      "source": [
        "[5] 선형회귀 객체 생성 및 학습\n",
        "\n"
      ],
      "metadata": {
        "id": "59qklxLNVoBQ"
      }
    },
    {
      "cell_type": "code",
      "source": [
        "linReg = LinRegression(1, w)\n",
        "linReg.fit(x, y, nSamples, nEpochs, 0.01)"
      ],
      "metadata": {
        "colab": {
          "base_uri": "https://localhost:8080/"
        },
        "id": "yOjW9pbfWAgB",
        "outputId": "a073ce98-8bd8-4683-b0d6-39dfc6ae1dc7"
      },
      "execution_count": null,
      "outputs": [
        {
          "output_type": "stream",
          "name": "stdout",
          "text": [
            "Epochs =    0 w[] = 0.0000 w[] = 1.0000  cost = 3.056667\n",
            "Epochs =    0 w[] = 0.0000 w[] = 1.0000  cost = 0.048581\n",
            "Epochs =    0 w[] = 0.0000 w[] = 1.0000  cost = 0.019393\n",
            "Epochs =    0 w[] = 0.0000 w[] = 1.0000  cost = 0.017388\n",
            "Epochs =    0 w[] = 0.0000 w[] = 1.0000  cost = 0.015790\n",
            "Epochs =    0 w[] = 0.0000 w[] = 1.0000  cost = 0.014341\n",
            "Epochs =    0 w[] = 0.0000 w[] = 1.0000  cost = 0.013025\n",
            "Epochs =    0 w[] = 0.0000 w[] = 1.0000  cost = 0.011829\n",
            "Epochs =    0 w[] = 0.0000 w[] = 1.0000  cost = 0.010744\n",
            "Epochs =    0 w[] = 0.0000 w[] = 1.0000  cost = 0.009757\n",
            "Epochs =    0 w[] = 0.0000 w[] = 1.0000  cost = 0.008862\n",
            "Epochs =    0 w[] = 0.0000 w[] = 1.0000  cost = 0.008049\n",
            "Epochs =    0 w[] = 0.0000 w[] = 1.0000  cost = 0.007310\n",
            "Epochs =    0 w[] = 0.0000 w[] = 1.0000  cost = 0.006639\n",
            "Epochs =    0 w[] = 0.0000 w[] = 1.0000  cost = 0.006030\n",
            "Epochs =    0 w[] = 0.0000 w[] = 1.0000  cost = 0.005476\n",
            "Epochs =    0 w[] = 0.0000 w[] = 1.0000  cost = 0.004974\n",
            "Epochs =    0 w[] = 0.0000 w[] = 1.0000  cost = 0.004517\n",
            "Epochs =    0 w[] = 0.0000 w[] = 1.0000  cost = 0.004102\n",
            "Epochs =    0 w[] = 0.0000 w[] = 1.0000  cost = 0.003726\n",
            "Epochs =    0 w[] = 0.0000 w[] = 1.0000  cost = 0.003384\n",
            "Epochs =    0 w[] = 0.0000 w[] = 1.0000  cost = 0.003073\n",
            "Epochs =    0 w[] = 0.0000 w[] = 1.0000  cost = 0.002791\n",
            "Epochs =    0 w[] = 0.0000 w[] = 1.0000  cost = 0.002535\n",
            "Epochs =    0 w[] = 0.0000 w[] = 1.0000  cost = 0.002302\n",
            "Epochs =    0 w[] = 0.0000 w[] = 1.0000  cost = 0.002091\n",
            "Epochs =    0 w[] = 0.0000 w[] = 1.0000  cost = 0.001899\n",
            "Epochs =    0 w[] = 0.0000 w[] = 1.0000  cost = 0.001725\n",
            "Epochs =    0 w[] = 0.0000 w[] = 1.0000  cost = 0.001567\n",
            "Epochs =    0 w[] = 0.0000 w[] = 1.0000  cost = 0.001423\n",
            "Epochs =    0 w[] = 0.0000 w[] = 1.0000  cost = 0.001292\n",
            "Epochs =    0 w[] = 0.0000 w[] = 1.0000  cost = 0.001174\n",
            "Epochs =    0 w[] = 0.0000 w[] = 1.0000  cost = 0.001066\n",
            "Epochs =    0 w[] = 0.0000 w[] = 1.0000  cost = 0.000968\n",
            "Epochs =    0 w[] = 0.0000 w[] = 1.0000  cost = 0.000879\n",
            "Epochs =    0 w[] = 0.0000 w[] = 1.0000  cost = 0.000798\n",
            "Epochs =    0 w[] = 0.0000 w[] = 1.0000  cost = 0.000725\n",
            "Epochs =    0 w[] = 0.0000 w[] = 1.0000  cost = 0.000659\n",
            "Epochs =    0 w[] = 0.0000 w[] = 1.0000  cost = 0.000598\n",
            "Epochs =    0 w[] = 0.0000 w[] = 1.0000  cost = 0.000543\n",
            "Epochs =    0 w[] = 0.0000 w[] = 1.0000  cost = 0.000493\n",
            "Epochs =    0 w[] = 0.0000 w[] = 1.0000  cost = 0.000448\n",
            "Epochs =    0 w[] = 0.0000 w[] = 1.0000  cost = 0.000407\n",
            "Epochs =    0 w[] = 0.0000 w[] = 1.0000  cost = 0.000370\n",
            "Epochs =    0 w[] = 0.0000 w[] = 1.0000  cost = 0.000336\n",
            "Epochs =    0 w[] = 0.0000 w[] = 1.0000  cost = 0.000305\n",
            "Epochs =    0 w[] = 0.0000 w[] = 1.0000  cost = 0.000277\n",
            "Epochs =    0 w[] = 0.0000 w[] = 1.0000  cost = 0.000251\n",
            "Epochs =    0 w[] = 0.0000 w[] = 1.0000  cost = 0.000228\n",
            "Epochs =    0 w[] = 0.0000 w[] = 1.0000  cost = 0.000207\n",
            "Epochs =    0 w[] = 0.0000 w[] = 1.0000  cost = 0.000188\n",
            "Epochs =    0 w[] = 0.0000 w[] = 1.0000  cost = 0.000171\n",
            "Epochs =    0 w[] = 0.0000 w[] = 1.0000  cost = 0.000155\n",
            "Epochs =    0 w[] = 0.0000 w[] = 1.0000  cost = 0.000141\n",
            "Epochs =    0 w[] = 0.0000 w[] = 1.0000  cost = 0.000128\n",
            "Epochs =    0 w[] = 0.0000 w[] = 1.0000  cost = 0.000116\n",
            "Epochs =    0 w[] = 0.0000 w[] = 1.0000  cost = 0.000106\n",
            "Epochs =    0 w[] = 0.0000 w[] = 1.0000  cost = 0.000096\n",
            "Epochs =    0 w[] = 0.0000 w[] = 1.0000  cost = 0.000087\n",
            "Epochs =    0 w[] = 0.0000 w[] = 1.0000  cost = 0.000079\n",
            "Epochs =    0 w[] = 0.0000 w[] = 1.0000  cost = 0.000072\n",
            "Epochs =    0 w[] = 0.0000 w[] = 1.0000  cost = 0.000065\n",
            "Epochs =    0 w[] = 0.0000 w[] = 1.0000  cost = 0.000059\n",
            "Epochs =    0 w[] = 0.0000 w[] = 1.0000  cost = 0.000054\n",
            "Epochs =    0 w[] = 0.0000 w[] = 1.0000  cost = 0.000049\n",
            "Epochs =    0 w[] = 0.0000 w[] = 1.0000  cost = 0.000044\n",
            "Epochs =    0 w[] = 0.0000 w[] = 1.0000  cost = 0.000040\n",
            "Epochs =    0 w[] = 0.0000 w[] = 1.0000  cost = 0.000037\n",
            "Epochs =    0 w[] = 0.0000 w[] = 1.0000  cost = 0.000033\n",
            "Epochs =    0 w[] = 0.0000 w[] = 1.0000  cost = 0.000030\n",
            "Epochs =    0 w[] = 0.0000 w[] = 1.0000  cost = 0.000027\n",
            "Epochs =    0 w[] = 0.0000 w[] = 1.0000  cost = 0.000025\n",
            "Epochs =    0 w[] = 0.0000 w[] = 1.0000  cost = 0.000023\n",
            "Epochs =    0 w[] = 0.0000 w[] = 1.0000  cost = 0.000021\n",
            "Epochs =    0 w[] = 0.0000 w[] = 1.0000  cost = 0.000019\n",
            "Epochs =    0 w[] = 0.0000 w[] = 1.0000  cost = 0.000017\n",
            "Epochs =    0 w[] = 0.0000 w[] = 1.0000  cost = 0.000015\n",
            "Epochs =    0 w[] = 0.0000 w[] = 1.0000  cost = 0.000014\n",
            "Epochs =    0 w[] = 0.0000 w[] = 1.0000  cost = 0.000013\n",
            "Epochs =    0 w[] = 0.0000 w[] = 1.0000  cost = 0.000012\n",
            "Epochs =    0 w[] = 0.0000 w[] = 1.0000  cost = 0.000010\n",
            "Epochs =    0 w[] = 0.0000 w[] = 1.0000  cost = 0.000010\n",
            "Epochs =    0 w[] = 0.0000 w[] = 1.0000  cost = 0.000009\n",
            "Epochs =    0 w[] = 0.0000 w[] = 1.0000  cost = 0.000008\n",
            "Epochs =    0 w[] = 0.0000 w[] = 1.0000  cost = 0.000007\n",
            "Epochs =    0 w[] = 0.0000 w[] = 1.0000  cost = 0.000006\n",
            "Epochs =    0 w[] = 0.0000 w[] = 1.0000  cost = 0.000006\n",
            "Epochs =    0 w[] = 0.0000 w[] = 1.0000  cost = 0.000005\n",
            "Epochs =    0 w[] = 0.0000 w[] = 1.0000  cost = 0.000005\n",
            "Epochs =    0 w[] = 0.0000 w[] = 1.0000  cost = 0.000004\n",
            "Epochs =    0 w[] = 0.0000 w[] = 1.0000  cost = 0.000004\n",
            "Epochs =    0 w[] = 0.0000 w[] = 1.0000  cost = 0.000004\n",
            "Epochs =    0 w[] = 0.0000 w[] = 1.0000  cost = 0.000003\n",
            "Epochs =    0 w[] = 0.0000 w[] = 1.0000  cost = 0.000003\n",
            "Epochs =    0 w[] = 0.0000 w[] = 1.0000  cost = 0.000003\n",
            "Epochs =    0 w[] = 0.0000 w[] = 1.0000  cost = 0.000002\n",
            "Epochs =    0 w[] = 0.0000 w[] = 1.0000  cost = 0.000002\n",
            "Epochs =    0 w[] = 0.0000 w[] = 1.0000  cost = 0.000002\n",
            "Epochs =    0 w[] = 0.0000 w[] = 1.0000  cost = 0.000002\n",
            "Epochs =    0 w[] = 0.0000 w[] = 1.0000  cost = 0.000002\n",
            "Epochs =    0 w[] = 0.0000 w[] = 1.0000  cost = 0.000002\n",
            "Epochs =    0 w[] = 0.0000 w[] = 1.0000  cost = 0.000001\n",
            "Epochs =    0 w[] = 0.0000 w[] = 1.0000  cost = 0.000001\n",
            "Epochs =    0 w[] = 0.0000 w[] = 1.0000  cost = 0.000001\n",
            "Epochs =    0 w[] = 0.0000 w[] = 1.0000  cost = 0.000001\n",
            "Epochs =    0 w[] = 0.0000 w[] = 1.0000  cost = 0.000001\n",
            "Epochs =    0 w[] = 0.0000 w[] = 1.0000  cost = 0.000001\n",
            "Epochs =    0 w[] = 0.0000 w[] = 1.0000  cost = 0.000001\n",
            "Epochs =    0 w[] = 0.0000 w[] = 1.0000  cost = 0.000001\n",
            "Epochs =    0 w[] = 0.0000 w[] = 1.0000  cost = 0.000001\n",
            "Epochs =    0 w[] = 0.0000 w[] = 1.0000  cost = 0.000001\n",
            "Epochs =    0 w[] = 0.0000 w[] = 1.0000  cost = 0.000001\n",
            "Epochs =    0 w[] = 0.0000 w[] = 1.0000  cost = 0.000000\n",
            "Epochs =    0 w[] = 0.0000 w[] = 1.0000  cost = 0.000000\n",
            "Epochs =    0 w[] = 0.0000 w[] = 1.0000  cost = 0.000000\n",
            "Epochs =    0 w[] = 0.0000 w[] = 1.0000  cost = 0.000000\n",
            "Epochs =    0 w[] = 0.0000 w[] = 1.0000  cost = 0.000000\n",
            "Epochs =    0 w[] = 0.0000 w[] = 1.0000  cost = 0.000000\n",
            "Epochs =    0 w[] = 0.0000 w[] = 1.0000  cost = 0.000000\n",
            "Epochs =    0 w[] = 0.0000 w[] = 1.0000  cost = 0.000000\n",
            "Epochs =    0 w[] = 0.0000 w[] = 1.0000  cost = 0.000000\n",
            "Epochs =    0 w[] = 0.0000 w[] = 1.0000  cost = 0.000000\n",
            "Epochs =    0 w[] = 0.0000 w[] = 1.0000  cost = 0.000000\n",
            "Epochs =    0 w[] = 0.0000 w[] = 1.0000  cost = 0.000000\n",
            "Epochs =    0 w[] = 0.0000 w[] = 1.0000  cost = 0.000000\n",
            "Epochs =    0 w[] = 0.0000 w[] = 1.0000  cost = 0.000000\n",
            "Epochs =    0 w[] = 0.0000 w[] = 1.0000  cost = 0.000000\n",
            "Epochs =    0 w[] = 0.0000 w[] = 1.0000  cost = 0.000000\n",
            "Epochs =    0 w[] = 0.0000 w[] = 1.0000  cost = 0.000000\n",
            "Epochs =    0 w[] = 0.0000 w[] = 1.0000  cost = 0.000000\n",
            "Epochs =    0 w[] = 0.0000 w[] = 1.0000  cost = 0.000000\n",
            "Epochs =    0 w[] = 0.0000 w[] = 1.0000  cost = 0.000000\n",
            "Epochs =    0 w[] = 0.0000 w[] = 1.0000  cost = 0.000000\n",
            "Epochs =    0 w[] = 0.0000 w[] = 1.0000  cost = 0.000000\n",
            "Epochs =    0 w[] = 0.0000 w[] = 1.0000  cost = 0.000000\n",
            "Epochs =    0 w[] = 0.0000 w[] = 1.0000  cost = 0.000000\n",
            "Epochs =    0 w[] = 0.0000 w[] = 1.0000  cost = 0.000000\n",
            "Epochs =    0 w[] = 0.0000 w[] = 1.0000  cost = 0.000000\n",
            "Epochs =    0 w[] = 0.0000 w[] = 1.0000  cost = 0.000000\n",
            "Epochs =    0 w[] = 0.0000 w[] = 1.0000  cost = 0.000000\n",
            "Epochs =    0 w[] = 0.0000 w[] = 1.0000  cost = 0.000000\n",
            "Epochs =    0 w[] = 0.0000 w[] = 1.0000  cost = 0.000000\n",
            "Epochs =    0 w[] = 0.0000 w[] = 1.0000  cost = 0.000000\n",
            "Epochs =    0 w[] = 0.0000 w[] = 1.0000  cost = 0.000000\n",
            "Epochs =    0 w[] = 0.0000 w[] = 1.0000  cost = 0.000000\n",
            "Epochs =    0 w[] = 0.0000 w[] = 1.0000  cost = 0.000000\n",
            "Epochs =    0 w[] = 0.0000 w[] = 1.0000  cost = 0.000000\n",
            "Epochs =    0 w[] = 0.0000 w[] = 1.0000  cost = 0.000000\n",
            "Epochs =    0 w[] = 0.0000 w[] = 1.0000  cost = 0.000000\n",
            "Epochs =    0 w[] = 0.0000 w[] = 1.0000  cost = 0.000000\n",
            "Epochs =    0 w[] = 0.0000 w[] = 1.0000  cost = 0.000000\n",
            "Epochs =    0 w[] = 0.0000 w[] = 1.0000  cost = 0.000000\n",
            "Epochs =    0 w[] = 0.0000 w[] = 1.0000  cost = 0.000000\n",
            "Epochs =    0 w[] = 0.0000 w[] = 1.0000  cost = 0.000000\n",
            "Epochs =    0 w[] = 0.0000 w[] = 1.0000  cost = 0.000000\n",
            "Epochs =    0 w[] = 0.0000 w[] = 1.0000  cost = 0.000000\n",
            "Epochs =    0 w[] = 0.0000 w[] = 1.0000  cost = 0.000000\n",
            "Epochs =    0 w[] = 0.0000 w[] = 1.0000  cost = 0.000000\n",
            "Epochs =    0 w[] = 0.0000 w[] = 1.0000  cost = 0.000000\n",
            "Epochs =    0 w[] = 0.0000 w[] = 1.0000  cost = 0.000000\n",
            "Epochs =    0 w[] = 0.0000 w[] = 1.0000  cost = 0.000000\n",
            "Epochs =    0 w[] = 0.0000 w[] = 1.0000  cost = 0.000000\n",
            "Epochs =    0 w[] = 0.0000 w[] = 1.0000  cost = 0.000000\n",
            "Epochs =    0 w[] = 0.0000 w[] = 1.0000  cost = 0.000000\n",
            "Epochs =    0 w[] = 0.0000 w[] = 1.0000  cost = 0.000000\n",
            "Epochs =    0 w[] = 0.0000 w[] = 1.0000  cost = 0.000000\n",
            "Epochs =    0 w[] = 0.0000 w[] = 1.0000  cost = 0.000000\n",
            "Epochs =    0 w[] = 0.0000 w[] = 1.0000  cost = 0.000000\n",
            "Epochs =    0 w[] = 0.0000 w[] = 1.0000  cost = 0.000000\n",
            "Epochs =    0 w[] = 0.0000 w[] = 1.0000  cost = 0.000000\n",
            "Epochs =    0 w[] = 0.0000 w[] = 1.0000  cost = 0.000000\n",
            "Epochs =    0 w[] = 0.0000 w[] = 1.0000  cost = 0.000000\n",
            "Epochs =    0 w[] = 0.0000 w[] = 1.0000  cost = 0.000000\n",
            "Epochs =    0 w[] = 0.0000 w[] = 1.0000  cost = 0.000000\n",
            "Epochs =    0 w[] = 0.0000 w[] = 1.0000  cost = 0.000000\n",
            "Epochs =    0 w[] = 0.0000 w[] = 1.0000  cost = 0.000000\n",
            "Epochs =    0 w[] = 0.0000 w[] = 1.0000  cost = 0.000000\n",
            "Epochs =    0 w[] = 0.0000 w[] = 1.0000  cost = 0.000000\n",
            "Epochs =    0 w[] = 0.0000 w[] = 1.0000  cost = 0.000000\n",
            "Epochs =    0 w[] = 0.0000 w[] = 1.0000  cost = 0.000000\n",
            "Epochs =    0 w[] = 0.0000 w[] = 1.0000  cost = 0.000000\n",
            "Epochs =    0 w[] = 0.0000 w[] = 1.0000  cost = 0.000000\n",
            "Epochs =    0 w[] = 0.0000 w[] = 1.0000  cost = 0.000000\n",
            "Epochs =    0 w[] = 0.0000 w[] = 1.0000  cost = 0.000000\n",
            "Epochs =    0 w[] = 0.0000 w[] = 1.0000  cost = 0.000000\n",
            "Epochs =    0 w[] = 0.0000 w[] = 1.0000  cost = 0.000000\n",
            "Epochs =    0 w[] = 0.0000 w[] = 1.0000  cost = 0.000000\n",
            "Epochs =    0 w[] = 0.0000 w[] = 1.0000  cost = 0.000000\n",
            "Epochs =    0 w[] = 0.0000 w[] = 1.0000  cost = 0.000000\n",
            "Epochs =    0 w[] = 0.0000 w[] = 1.0000  cost = 0.000000\n",
            "Epochs =    0 w[] = 0.0000 w[] = 1.0000  cost = 0.000000\n",
            "Epochs =    0 w[] = 0.0000 w[] = 1.0000  cost = 0.000000\n",
            "Epochs =    0 w[] = 0.0000 w[] = 1.0000  cost = 0.000000\n",
            "Epochs =    0 w[] = 0.0000 w[] = 1.0000  cost = 0.000000\n",
            "Epochs =    0 w[] = 0.0000 w[] = 1.0000  cost = 0.000000\n",
            "Epochs =    0 w[] = 0.0000 w[] = 1.0000  cost = 0.000000\n",
            "Epochs =    0 w[] = 0.0000 w[] = 1.0000  cost = 0.000000\n",
            "Epochs =    0 w[] = 0.0000 w[] = 1.0000  cost = 0.000000\n",
            "Epochs =    0 w[] = 0.0000 w[] = 1.0000  cost = 0.000000\n",
            "Epochs =    0 w[] = 0.0000 w[] = 1.0000  cost = 0.000000\n",
            "Epochs =    0 w[] = 0.0000 w[] = 1.0000  cost = 0.000000\n",
            "Epochs =    0 w[] = 0.0000 w[] = 1.0000  cost = 0.000000\n",
            "Epochs =    0 w[] = 0.0000 w[] = 1.0000  cost = 0.000000\n",
            "Epochs =    0 w[] = 0.0000 w[] = 1.0000  cost = 0.000000\n",
            "Epochs =    0 w[] = 0.0000 w[] = 1.0000  cost = 0.000000\n",
            "Epochs =    0 w[] = 0.0000 w[] = 1.0000  cost = 0.000000\n",
            "Epochs =    0 w[] = 0.0000 w[] = 1.0000  cost = 0.000000\n",
            "Epochs =    0 w[] = 0.0000 w[] = 1.0000  cost = 0.000000\n",
            "Epochs =    0 w[] = 0.0000 w[] = 1.0000  cost = 0.000000\n",
            "Epochs =    0 w[] = 0.0000 w[] = 1.0000  cost = 0.000000\n",
            "Epochs =    0 w[] = 0.0000 w[] = 1.0000  cost = 0.000000\n",
            "Epochs =    0 w[] = 0.0000 w[] = 1.0000  cost = 0.000000\n",
            "Epochs =    0 w[] = 0.0000 w[] = 1.0000  cost = 0.000000\n",
            "Epochs =    0 w[] = 0.0000 w[] = 1.0000  cost = 0.000000\n",
            "Epochs =    0 w[] = 0.0000 w[] = 1.0000  cost = 0.000000\n",
            "Epochs =    0 w[] = 0.0000 w[] = 1.0000  cost = 0.000000\n",
            "Epochs =    0 w[] = 0.0000 w[] = 1.0000  cost = 0.000000\n",
            "Epochs =    0 w[] = 0.0000 w[] = 1.0000  cost = 0.000000\n",
            "Epochs =    0 w[] = 0.0000 w[] = 1.0000  cost = 0.000000\n",
            "Epochs =    0 w[] = 0.0000 w[] = 1.0000  cost = 0.000000\n",
            "Epochs =    0 w[] = 0.0000 w[] = 1.0000  cost = 0.000000\n",
            "Epochs =    0 w[] = 0.0000 w[] = 1.0000  cost = 0.000000\n",
            "Epochs =    0 w[] = 0.0000 w[] = 1.0000  cost = 0.000000\n",
            "Epochs =    0 w[] = 0.0000 w[] = 1.0000  cost = 0.000000\n",
            "Epochs =    0 w[] = 0.0000 w[] = 1.0000  cost = 0.000000\n",
            "Epochs =    0 w[] = 0.0000 w[] = 1.0000  cost = 0.000000\n",
            "Epochs =    0 w[] = 0.0000 w[] = 1.0000  cost = 0.000000\n",
            "Epochs =    0 w[] = 0.0000 w[] = 1.0000  cost = 0.000000\n",
            "Epochs =    0 w[] = 0.0000 w[] = 1.0000  cost = 0.000000\n",
            "Epochs =    0 w[] = 0.0000 w[] = 1.0000  cost = 0.000000\n",
            "Epochs =    0 w[] = 0.0000 w[] = 1.0000  cost = 0.000000\n",
            "Epochs =    0 w[] = 0.0000 w[] = 1.0000  cost = 0.000000\n",
            "Epochs =    0 w[] = 0.0000 w[] = 1.0000  cost = 0.000000\n",
            "Epochs =    0 w[] = 0.0000 w[] = 1.0000  cost = 0.000000\n",
            "Epochs =    0 w[] = 0.0000 w[] = 1.0000  cost = 0.000000\n",
            "Epochs =    0 w[] = 0.0000 w[] = 1.0000  cost = 0.000000\n",
            "Epochs =    0 w[] = 0.0000 w[] = 1.0000  cost = 0.000000\n",
            "Epochs =    0 w[] = 0.0000 w[] = 1.0000  cost = 0.000000\n",
            "Epochs =    0 w[] = 0.0000 w[] = 1.0000  cost = 0.000000\n",
            "Epochs =    0 w[] = 0.0000 w[] = 1.0000  cost = 0.000000\n",
            "Epochs =    0 w[] = 0.0000 w[] = 1.0000  cost = 0.000000\n",
            "Epochs =    0 w[] = 0.0000 w[] = 1.0000  cost = 0.000000\n",
            "Epochs =    0 w[] = 0.0000 w[] = 1.0000  cost = 0.000000\n",
            "Epochs =    0 w[] = 0.0000 w[] = 1.0000  cost = 0.000000\n",
            "Epochs =    0 w[] = 0.0000 w[] = 1.0000  cost = 0.000000\n",
            "Epochs =    0 w[] = 0.0000 w[] = 1.0000  cost = 0.000000\n",
            "Epochs =    0 w[] = 0.0000 w[] = 1.0000  cost = 0.000000\n",
            "Epochs =    0 w[] = 0.0000 w[] = 1.0000  cost = 0.000000\n",
            "Epochs =    0 w[] = 0.0000 w[] = 1.0000  cost = 0.000000\n",
            "Epochs =    0 w[] = 0.0000 w[] = 1.0000  cost = 0.000000\n",
            "Epochs =    0 w[] = 0.0000 w[] = 1.0000  cost = 0.000000\n",
            "Epochs =    0 w[] = 0.0000 w[] = 1.0000  cost = 0.000000\n",
            "Epochs =    0 w[] = 0.0000 w[] = 1.0000  cost = 0.000000\n",
            "Epochs =    0 w[] = 0.0000 w[] = 1.0000  cost = 0.000000\n",
            "Epochs =    0 w[] = 0.0000 w[] = 1.0000  cost = 0.000000\n",
            "Epochs =    0 w[] = 0.0000 w[] = 1.0000  cost = 0.000000\n",
            "Epochs =    0 w[] = 0.0000 w[] = 1.0000  cost = 0.000000\n",
            "Epochs =    0 w[] = 0.0000 w[] = 1.0000  cost = 0.000000\n",
            "Epochs =    0 w[] = 0.0000 w[] = 1.0000  cost = 0.000000\n",
            "Epochs =    0 w[] = 0.0000 w[] = 1.0000  cost = 0.000000\n",
            "Epochs =    0 w[] = 0.0000 w[] = 1.0000  cost = 0.000000\n",
            "Epochs =    0 w[] = 0.0000 w[] = 1.0000  cost = 0.000000\n",
            "Epochs =    0 w[] = 0.0000 w[] = 1.0000  cost = 0.000000\n",
            "Epochs =    0 w[] = 0.0000 w[] = 1.0000  cost = 0.000000\n",
            "Epochs =    0 w[] = 0.0000 w[] = 1.0000  cost = 0.000000\n",
            "Epochs =    0 w[] = 0.0000 w[] = 1.0000  cost = 0.000000\n",
            "Epochs =    0 w[] = 0.0000 w[] = 1.0000  cost = 0.000000\n",
            "Epochs =    0 w[] = 0.0000 w[] = 1.0000  cost = 0.000000\n",
            "Epochs =    0 w[] = 0.0000 w[] = 1.0000  cost = 0.000000\n",
            "Epochs =    0 w[] = 0.0000 w[] = 1.0000  cost = 0.000000\n",
            "Epochs =    0 w[] = 0.0000 w[] = 1.0000  cost = 0.000000\n",
            "Epochs =    0 w[] = 0.0000 w[] = 1.0000  cost = 0.000000\n",
            "Epochs =    0 w[] = 0.0000 w[] = 1.0000  cost = 0.000000\n",
            "Epochs =    0 w[] = 0.0000 w[] = 1.0000  cost = 0.000000\n",
            "Epochs =    0 w[] = 0.0000 w[] = 1.0000  cost = 0.000000\n",
            "Epochs =    0 w[] = 0.0000 w[] = 1.0000  cost = 0.000000\n",
            "Epochs =    0 w[] = 0.0000 w[] = 1.0000  cost = 0.000000\n",
            "Epochs =    0 w[] = 0.0000 w[] = 1.0000  cost = 0.000000\n",
            "Epochs =    0 w[] = 0.0000 w[] = 1.0000  cost = 0.000000\n",
            "Epochs =    0 w[] = 0.0000 w[] = 1.0000  cost = 0.000000\n",
            "Epochs =    0 w[] = 0.0000 w[] = 1.0000  cost = 0.000000\n",
            "Epochs =    0 w[] = 0.0000 w[] = 1.0000  cost = 0.000000\n",
            "Epochs =    0 w[] = 0.0000 w[] = 1.0000  cost = 0.000000\n",
            "Epochs =    0 w[] = 0.0000 w[] = 1.0000  cost = 0.000000\n",
            "Epochs =    0 w[] = 0.0000 w[] = 1.0000  cost = 0.000000\n",
            "Epochs =    0 w[] = 0.0000 w[] = 1.0000  cost = 0.000000\n",
            "Epochs =    0 w[] = 0.0000 w[] = 1.0000  cost = 0.000000\n",
            "Epochs =    0 w[] = 0.0000 w[] = 1.0000  cost = 0.000000\n",
            "Epochs =    0 w[] = 0.0000 w[] = 1.0000  cost = 0.000000\n",
            "Epochs =    0 w[] = 0.0000 w[] = 1.0000  cost = 0.000000\n",
            "Epochs =    0 w[] = 0.0000 w[] = 1.0000  cost = 0.000000\n",
            "Epochs =    0 w[] = 0.0000 w[] = 1.0000  cost = 0.000000\n",
            "Epochs =    0 w[] = 0.0000 w[] = 1.0000  cost = 0.000000\n",
            "Epochs =    0 w[] = 0.0000 w[] = 1.0000  cost = 0.000000\n",
            "Epochs =    0 w[] = 0.0000 w[] = 1.0000  cost = 0.000000\n",
            "Epochs =    0 w[] = 0.0000 w[] = 1.0000  cost = 0.000000\n",
            "Epochs =    0 w[] = 0.0000 w[] = 1.0000  cost = 0.000000\n",
            "Epochs =    0 w[] = 0.0000 w[] = 1.0000  cost = 0.000000\n",
            "Epochs =    0 w[] = 0.0000 w[] = 1.0000  cost = 0.000000\n",
            "Epochs =    0 w[] = 0.0000 w[] = 1.0000  cost = 0.000000\n",
            "Epochs =    0 w[] = 0.0000 w[] = 1.0000  cost = 0.000000\n"
          ]
        }
      ]
    },
    {
      "cell_type": "markdown",
      "source": [
        "[6] 학습된 선형회귀 모델을 이용한 예측"
      ],
      "metadata": {
        "id": "NMOF-3UUWMNa"
      }
    },
    {
      "cell_type": "code",
      "source": [
        "xx = np.array([1, 1.5])\n",
        "print(\"x = {:.2f} --> y_hat = {:.1f}\".format(xx[1],linReg.predict(xx)))\n",
        "xx = np.array([1, 4])\n",
        "print(\"x = {:.2f} --> y_hat = {:.1f}\".format(xx[1], linReg.predict(xx)))\n"
      ],
      "metadata": {
        "colab": {
          "base_uri": "https://localhost:8080/"
        },
        "id": "-ZrnvkoXWQ0r",
        "outputId": "3ca07142-937c-4f51-f514-23100b862a82"
      },
      "execution_count": null,
      "outputs": [
        {
          "output_type": "stream",
          "name": "stdout",
          "text": [
            "x = 1.50 --> y_hat = 2.5\n",
            "x = 4.00 --> y_hat = 5.0\n"
          ]
        }
      ]
    },
    {
      "cell_type": "code",
      "source": [],
      "metadata": {
        "id": "npivGr3hgoUh"
      },
      "execution_count": null,
      "outputs": []
    }
  ]
}