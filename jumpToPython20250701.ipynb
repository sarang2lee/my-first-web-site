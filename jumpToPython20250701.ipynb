{
  "nbformat": 4,
  "nbformat_minor": 0,
  "metadata": {
    "colab": {
      "provenance": [],
      "authorship_tag": "ABX9TyPiM7k1i7j3qUR1i7PCiDoA",
      "include_colab_link": true
    },
    "kernelspec": {
      "name": "python3",
      "display_name": "Python 3"
    },
    "language_info": {
      "name": "python"
    }
  },
  "cells": [
    {
      "cell_type": "markdown",
      "metadata": {
        "id": "view-in-github",
        "colab_type": "text"
      },
      "source": [
        "<a href=\"https://colab.research.google.com/github/sarang2lee/my-first-web-site/blob/main/jumpToPython20250701.ipynb\" target=\"_parent\"><img src=\"https://colab.research.google.com/assets/colab-badge.svg\" alt=\"Open In Colab\"/></a>"
      ]
    },
    {
      "cell_type": "code",
      "execution_count": 4,
      "metadata": {
        "id": "kAWeDNY9Qr7P"
      },
      "outputs": [],
      "source": [
        "def two_times(numberList):\n",
        "    result = []\n",
        "    for number in numberList:\n",
        "        result.append(number**2)\n",
        "    return result"
      ]
    },
    {
      "cell_type": "markdown",
      "source": [],
      "metadata": {
        "id": "6DlSp4BWTqGK"
      }
    },
    {
      "cell_type": "code",
      "source": [
        "result = two_times([3, 4, 5, 6, 7])\n",
        "print(result)"
      ],
      "metadata": {
        "colab": {
          "base_uri": "https://localhost:8080/"
        },
        "id": "xYK3S_P-U2E-",
        "outputId": "bec8ccec-d6b9-4409-938b-f1edfca8ff41"
      },
      "execution_count": 2,
      "outputs": [
        {
          "output_type": "stream",
          "name": "stdout",
          "text": [
            "[9, 16, 25, 36, 49]\n"
          ]
        }
      ]
    },
    {
      "cell_type": "code",
      "source": [
        "def two_times(x):\n",
        "    return x**3\n",
        "list(map(two_times, [10, 12, 14, 16]))"
      ],
      "metadata": {
        "colab": {
          "base_uri": "https://localhost:8080/"
        },
        "id": "EupWyGaVVM4h",
        "outputId": "b959b20c-07a5-4f55-ae4e-7170485cedc6"
      },
      "execution_count": 6,
      "outputs": [
        {
          "output_type": "execute_result",
          "data": {
            "text/plain": [
              "[1000, 1728, 2744, 4096]"
            ]
          },
          "metadata": {},
          "execution_count": 6
        }
      ]
    },
    {
      "cell_type": "code",
      "source": [
        "list(map(lambda a: a**4, [12, 15, 18, 21]))"
      ],
      "metadata": {
        "colab": {
          "base_uri": "https://localhost:8080/"
        },
        "id": "ue6etbekXL_S",
        "outputId": "9d41f551-429f-4389-a547-bd74b289aaf4"
      },
      "execution_count": 7,
      "outputs": [
        {
          "output_type": "execute_result",
          "data": {
            "text/plain": [
              "[20736, 50625, 104976, 194481]"
            ]
          },
          "metadata": {},
          "execution_count": 7
        }
      ]
    },
    {
      "cell_type": "code",
      "source": [
        "oct(7)"
      ],
      "metadata": {
        "colab": {
          "base_uri": "https://localhost:8080/",
          "height": 35
        },
        "id": "cLgsTvM1XgbO",
        "outputId": "5102588e-8a37-45a7-b372-00d557371203"
      },
      "execution_count": 10,
      "outputs": [
        {
          "output_type": "execute_result",
          "data": {
            "text/plain": [
              "'0o7'"
            ],
            "application/vnd.google.colaboratory.intrinsic+json": {
              "type": "string"
            }
          },
          "metadata": {},
          "execution_count": 10
        }
      ]
    },
    {
      "cell_type": "code",
      "source": [
        "oct(100)"
      ],
      "metadata": {
        "colab": {
          "base_uri": "https://localhost:8080/",
          "height": 35
        },
        "id": "UOQArxk7Xp6K",
        "outputId": "2100e393-7373-4181-bd3e-8716a8a923b9"
      },
      "execution_count": 11,
      "outputs": [
        {
          "output_type": "execute_result",
          "data": {
            "text/plain": [
              "'0o144'"
            ],
            "application/vnd.google.colaboratory.intrinsic+json": {
              "type": "string"
            }
          },
          "metadata": {},
          "execution_count": 11
        }
      ]
    },
    {
      "cell_type": "markdown",
      "source": [
        "open(filename, [mode])은 '파일이름'과 '읽기방법'을 입력받아 파일 객체를 리턴하는 함수이다. 읽기방법(mode)를 생략하면 기본값인 읽기모드(r)로 파일 객체를 만들어 리턴한다."
      ],
      "metadata": {
        "id": "0cMba0dCX3Xk"
      }
    },
    {
      "cell_type": "markdown",
      "source": [
        "ord(c)는 문자의 유니코드 숫자 값을 리턴하는 함수이다. ord 함수는 chr 함수와 반대로 작동한다."
      ],
      "metadata": {
        "id": "2LfZOTgFrdIV"
      }
    },
    {
      "cell_type": "code",
      "source": [
        "chr(360)\n",
        "chr(ord('a'))"
      ],
      "metadata": {
        "colab": {
          "base_uri": "https://localhost:8080/",
          "height": 35
        },
        "id": "Kxa16BiGr-5X",
        "outputId": "8ee8ad0d-c841-402a-fc8c-b1f1e378d0cc"
      },
      "execution_count": 17,
      "outputs": [
        {
          "output_type": "execute_result",
          "data": {
            "text/plain": [
              "'a'"
            ],
            "application/vnd.google.colaboratory.intrinsic+json": {
              "type": "string"
            }
          },
          "metadata": {},
          "execution_count": 17
        }
      ]
    },
    {
      "cell_type": "code",
      "source": [
        "ord('a')\n",
        "ord('가')"
      ],
      "metadata": {
        "colab": {
          "base_uri": "https://localhost:8080/"
        },
        "id": "nEmA-y4LrVB7",
        "outputId": "bb264c51-68df-42e5-a927-522f11c62ff4"
      },
      "execution_count": 18,
      "outputs": [
        {
          "output_type": "execute_result",
          "data": {
            "text/plain": [
              "44032"
            ]
          },
          "metadata": {},
          "execution_count": 18
        }
      ]
    },
    {
      "cell_type": "markdown",
      "source": [
        "pow(x, y)는 x를 y제곱한 결과값을 리턴하는 함수이다."
      ],
      "metadata": {
        "id": "iKi77T03vffr"
      }
    },
    {
      "cell_type": "code",
      "source": [
        "pow(8, 9)"
      ],
      "metadata": {
        "colab": {
          "base_uri": "https://localhost:8080/"
        },
        "id": "jcZMGC4EvqtU",
        "outputId": "645b395a-16c1-46d6-ada2-f2dd086189c3"
      },
      "execution_count": 19,
      "outputs": [
        {
          "output_type": "execute_result",
          "data": {
            "text/plain": [
              "134217728"
            ]
          },
          "metadata": {},
          "execution_count": 19
        }
      ]
    },
    {
      "cell_type": "code",
      "source": [
        "pow(9, 3)"
      ],
      "metadata": {
        "colab": {
          "base_uri": "https://localhost:8080/"
        },
        "id": "86V1kXkHyVhk",
        "outputId": "e681896f-602e-4c33-fb41-1480402ae539"
      },
      "execution_count": 20,
      "outputs": [
        {
          "output_type": "execute_result",
          "data": {
            "text/plain": [
              "729"
            ]
          },
          "metadata": {},
          "execution_count": 20
        }
      ]
    },
    {
      "cell_type": "markdown",
      "source": [
        "시작 숫자를 지정해주지 않으면, range 함수는 0부터 시작한다.\n",
        "코마로 구분되는 2개의 숫자가 입력되면 시작 숫자와 끝숫자를 나타낸다. 단 끝 숫자는 해당 범위에 포함되자 않는다.\n",
        "인수 3개를 사용하면, 세번째 인수는 숫자 사이의 거리를 의미한다.\n",
        "\n",
        "내림차순으로 숫자를 가져오려면 구간인수를 음수로 지정해야 한다."
      ],
      "metadata": {
        "id": "YyQDWDGvyhNF"
      }
    },
    {
      "cell_type": "code",
      "source": [
        "print(list(range(6)))\n",
        "print(tuple(range(5, 10)))\n",
        "print(set(range(0, 100, 5)))\n",
        "print(tuple(range(6, -1)))\n",
        "print(tuple(range(-5, 20)))\n",
        "print(tuple(range(0, -30, -4)))\n",
        "print(tuple(range(100, 30, -4)))\n",
        "print(tuple(range(100, 30, 4)))"
      ],
      "metadata": {
        "colab": {
          "base_uri": "https://localhost:8080/"
        },
        "id": "6SX_lQzWy5BQ",
        "outputId": "26ca3175-ef2d-4666-9f8f-a987162cbc15"
      },
      "execution_count": 32,
      "outputs": [
        {
          "output_type": "stream",
          "name": "stdout",
          "text": [
            "[0, 1, 2, 3, 4, 5]\n",
            "(5, 6, 7, 8, 9)\n",
            "{0, 5, 10, 15, 20, 25, 30, 35, 40, 45, 50, 55, 60, 65, 70, 75, 80, 85, 90, 95}\n",
            "()\n",
            "(-5, -4, -3, -2, -1, 0, 1, 2, 3, 4, 5, 6, 7, 8, 9, 10, 11, 12, 13, 14, 15, 16, 17, 18, 19)\n",
            "(0, -4, -8, -12, -16, -20, -24, -28)\n",
            "(100, 96, 92, 88, 84, 80, 76, 72, 68, 64, 60, 56, 52, 48, 44, 40, 36, 32)\n",
            "()\n"
          ]
        }
      ]
    },
    {
      "cell_type": "markdown",
      "source": [
        "sorted(iterable)는 입력 데이터를 정렬한 후 그 결과를 리스트로 리턴하는 함수이다.\n",
        "리스트 자료형의 sort함수와는 달리 정렬된 결과를 리턴한다는 점이 다르다. 즉 리스트명.sort()를 하면 원래의 list자체를 재정렬한다. 즉 기존 list값을 정렬된 값으로 재정렬한다.\n",
        "그러므로 b = a.sort() 함수를 적용하면, b에는 어떤 값도 들어오지 않고, a 변수에 원래 a 값의 정렬된 값이 저장된다."
      ],
      "metadata": {
        "id": "77EB87f5N571"
      }
    },
    {
      "cell_type": "code",
      "source": [
        "listA = [4,6,2,4,5,8,9]\n",
        "sorted(listA)"
      ],
      "metadata": {
        "colab": {
          "base_uri": "https://localhost:8080/"
        },
        "id": "BRoKT2c04tpg",
        "outputId": "9fd313c6-a3d5-40e7-a890-b374b1ca35f8"
      },
      "execution_count": 44,
      "outputs": [
        {
          "output_type": "execute_result",
          "data": {
            "text/plain": [
              "[2, 4, 4, 5, 6, 8, 9]"
            ]
          },
          "metadata": {},
          "execution_count": 44
        }
      ]
    },
    {
      "cell_type": "code",
      "source": [
        "listA = [4,6,2,4,5,8,9]\n",
        "listA.sort()\n",
        "print(listA)\n",
        "A = listA.sort()\n",
        "print(A)"
      ],
      "metadata": {
        "colab": {
          "base_uri": "https://localhost:8080/"
        },
        "id": "I-E4zF3hO9Q5",
        "outputId": "639b9c75-9e3a-480b-b158-1fa98bd980dd"
      },
      "execution_count": 47,
      "outputs": [
        {
          "output_type": "stream",
          "name": "stdout",
          "text": [
            "[2, 4, 4, 5, 6, 8, 9]\n",
            "None\n"
          ]
        }
      ]
    },
    {
      "cell_type": "markdown",
      "source": [
        "str(object)는객체를 문자열 형태로 변환하여 리턴(반환)하는 함수이다."
      ],
      "metadata": {
        "id": "LWmZVTjUqLHc"
      }
    },
    {
      "cell_type": "code",
      "source": [
        "str(1)"
      ],
      "metadata": {
        "colab": {
          "base_uri": "https://localhost:8080/",
          "height": 35
        },
        "id": "hTWVeX0cqaBM",
        "outputId": "2c194e43-cdd6-46cb-f58d-e0d62c46bdaf"
      },
      "execution_count": 48,
      "outputs": [
        {
          "output_type": "execute_result",
          "data": {
            "text/plain": [
              "'1'"
            ],
            "application/vnd.google.colaboratory.intrinsic+json": {
              "type": "string"
            }
          },
          "metadata": {},
          "execution_count": 48
        }
      ]
    },
    {
      "cell_type": "code",
      "source": [
        "str(\"hi\")"
      ],
      "metadata": {
        "colab": {
          "base_uri": "https://localhost:8080/",
          "height": 35
        },
        "id": "p6iNfAK5qeQN",
        "outputId": "936b9dfe-6884-4ebf-c515-81dcea20aa27"
      },
      "execution_count": 50,
      "outputs": [
        {
          "output_type": "execute_result",
          "data": {
            "text/plain": [
              "'hi'"
            ],
            "application/vnd.google.colaboratory.intrinsic+json": {
              "type": "string"
            }
          },
          "metadata": {},
          "execution_count": 50
        }
      ]
    },
    {
      "cell_type": "markdown",
      "source": [
        "sum(iterable)은 입력 데이터의 합을 int 또는 float 타입으로 리턴하는 함수이다. list, tuple, set 어떤 수의 집합도 가능하다."
      ],
      "metadata": {
        "id": "CvzwilNgqoTH"
      }
    },
    {
      "cell_type": "code",
      "source": [
        "sum([1, 2.5, 5, 6, 9.524, 10])\n",
        "type(sum([45, 52, 35, 9.524, 12]))"
      ],
      "metadata": {
        "colab": {
          "base_uri": "https://localhost:8080/"
        },
        "id": "ZvreJh7Dqt-F",
        "outputId": "c7432f49-b15a-45fb-d19c-b6bccf2a2186"
      },
      "execution_count": 61,
      "outputs": [
        {
          "output_type": "execute_result",
          "data": {
            "text/plain": [
              "float"
            ]
          },
          "metadata": {},
          "execution_count": 61
        }
      ]
    },
    {
      "cell_type": "code",
      "source": [
        "sum((1, 2, 5, 6.85412, -9, 10))"
      ],
      "metadata": {
        "colab": {
          "base_uri": "https://localhost:8080/"
        },
        "id": "WwkZNjwOqy83",
        "outputId": "ce6b7f0e-6d4c-4e3b-da7b-e2dd7c691d55"
      },
      "execution_count": 62,
      "outputs": [
        {
          "output_type": "execute_result",
          "data": {
            "text/plain": [
              "15.85412"
            ]
          },
          "metadata": {},
          "execution_count": 62
        }
      ]
    },
    {
      "cell_type": "code",
      "source": [
        "sum({45, 52, 35, -52, 12.6})"
      ],
      "metadata": {
        "colab": {
          "base_uri": "https://localhost:8080/"
        },
        "id": "S6JfxUf3rD4O",
        "outputId": "157ad712-6313-4205-d1de-a615b6c8d8de"
      },
      "execution_count": 63,
      "outputs": [
        {
          "output_type": "execute_result",
          "data": {
            "text/plain": [
              "92.6"
            ]
          },
          "metadata": {},
          "execution_count": 63
        }
      ]
    },
    {
      "cell_type": "markdown",
      "source": [
        "zip(*iterable)은 동일한 개수로 이루어진 데이터들을 묶어서 리턴하는 함수이다."
      ],
      "metadata": {
        "id": "akzUStwcsB2F"
      }
    },
    {
      "cell_type": "code",
      "source": [
        "list(zip([25, 25, 36], ['호랑이', '사자', '여우']))"
      ],
      "metadata": {
        "colab": {
          "base_uri": "https://localhost:8080/"
        },
        "id": "QdxGDzwSsNZs",
        "outputId": "ab32e5f9-a88e-4593-c12e-57a28559bf74"
      },
      "execution_count": 64,
      "outputs": [
        {
          "output_type": "execute_result",
          "data": {
            "text/plain": [
              "[(25, '호랑이'), (25, '사자'), (36, '여우')]"
            ]
          },
          "metadata": {},
          "execution_count": 64
        }
      ]
    },
    {
      "cell_type": "code",
      "source": [
        "list(zip([25, 25, 36], ['호랑이', '사자', '여우'], ('학생', '공무원', '회사원')))"
      ],
      "metadata": {
        "colab": {
          "base_uri": "https://localhost:8080/"
        },
        "id": "3G_eKK4qsfg8",
        "outputId": "9871780e-b1f0-48c0-9681-c3db024e0410"
      },
      "execution_count": 66,
      "outputs": [
        {
          "output_type": "execute_result",
          "data": {
            "text/plain": [
              "[(25, '호랑이', '학생'), (25, '사자', '공무원'), (36, '여우', '회사원')]"
            ]
          },
          "metadata": {},
          "execution_count": 66
        }
      ]
    }
  ]
}