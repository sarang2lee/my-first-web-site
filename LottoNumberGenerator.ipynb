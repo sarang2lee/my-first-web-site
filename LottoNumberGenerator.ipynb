{
  "nbformat": 4,
  "nbformat_minor": 0,
  "metadata": {
    "colab": {
      "provenance": [],
      "authorship_tag": "ABX9TyMpX7UV+SdFyhMlhC3ovJDg",
      "include_colab_link": true
    },
    "kernelspec": {
      "name": "python3",
      "display_name": "Python 3"
    },
    "language_info": {
      "name": "python"
    }
  },
  "cells": [
    {
      "cell_type": "markdown",
      "metadata": {
        "id": "view-in-github",
        "colab_type": "text"
      },
      "source": [
        "<a href=\"https://colab.research.google.com/github/sarang2lee/my-first-web-site/blob/main/LottoNumberGenerator.ipynb\" target=\"_parent\"><img src=\"https://colab.research.google.com/assets/colab-badge.svg\" alt=\"Open In Colab\"/></a>"
      ]
    },
    {
      "cell_type": "code",
      "execution_count": 4,
      "metadata": {
        "colab": {
          "base_uri": "https://localhost:8080/"
        },
        "id": "7p6QNencYvFM",
        "outputId": "afc7b81d-5ded-4430-f9b9-9e0797f8898d"
      },
      "outputs": [
        {
          "output_type": "stream",
          "name": "stdout",
          "text": [
            "좋아하는 번호를 1~45 사이의 정수 중 최대 6개까지 입력하세요 (띄어쓰기로 구분): \n",
            "⚠️ 입력된 번호가 없습니다.\n",
            "\n",
            "좋아하는 번호를 1~45 사이의 정수 중 최대 6개까지 입력하세요 (띄어쓰기로 구분): \n",
            "⚠️ 입력된 번호가 없습니다.\n",
            "\n",
            "좋아하는 번호를 1~45 사이의 정수 중 최대 6개까지 입력하세요 (띄어쓰기로 구분): 11\n",
            "\n",
            "입력한 번호 :  [11]\n",
            "자동으로 고른 번호:  [30, 26, 23, 37, 12]\n",
            "\n",
            "로또 최종 번호:  [11, 12, 23, 26, 30, 37]\n"
          ]
        }
      ],
      "source": [
        "import random\n",
        "\n",
        "def get_valid_numbers():\n",
        "    while True:\n",
        "        try:\n",
        "            lottoNM = list(map(int, input(\"좋아하는 번호를 1~45 사이의 정수 중 최대 6개까지 입력하세요 (띄어쓰기로 구분): \").split()))\n",
        "\n",
        "            # 유효성 검사\n",
        "            if len(lottoNM) > 6:\n",
        "                print(\"⚠️ 6개까지만 입력할 수 있습니다.\\n\")\n",
        "                continue\n",
        "            if any(n < 1 or n > 45 for n in lottoNM):\n",
        "                print(\"⚠️ 모든 번호는 1~45 사이의 정수여야 합니다.\\n\")\n",
        "                continue\n",
        "            if len(lottoNM) != len(set(lottoNM)):\n",
        "                print(\"⚠️ 중복된 번호가 있습니다.\\n\")\n",
        "                continue\n",
        "            if len(lottoNM) == 0 :\n",
        "                print(\"⚠️ 입력된 번호가 없습니다.\\n\")\n",
        "                continue\n",
        "\n",
        "            return lottoNM  # 입력이 유효하면 반환\n",
        "\n",
        "        except ValueError:\n",
        "            print(\"⚠️ 정수를 띄어쓰기로 구분해서 입력해 주세요.\\n\")\n",
        "\n",
        "lottoNM = get_valid_numbers()\n",
        "print(\"\\n입력한 번호 : \", lottoNM)\n",
        "\n",
        "data = list(set(range(1,46)) - set(lottoNM))\n",
        "\n",
        "needed = 6 - len(lottoNM)\n",
        "random.shuffle(data)\n",
        "random_picks = data[:needed]\n",
        "print(\"자동으로 고른 번호: \", random_picks)\n",
        "result = lottoNM + random_picks\n",
        "result.sort()\n",
        "\n",
        "print(\"\\n로또 최종 번호: \", result)"
      ]
    }
  ]
}